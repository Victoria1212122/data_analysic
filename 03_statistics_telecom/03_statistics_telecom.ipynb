{
 "cells": [
  {
   "cell_type": "markdown",
   "metadata": {},
   "source": [
    "# Определение перспективного тарифа для телеком компании\n",
    "Имеются данные компании «Мегалайн» — федерального оператора сотовой связи. Клиентам предлагают два тарифных плана: «Смарт» и «Ультра». Чтобы скорректировать рекламный бюджет, коммерческий департамент хочет понять, какой тариф приносит больше денег.\n",
    "\n",
    "Необходимо выполнить предварительный анализ тарифов на небольшой выборке клиентов. В вашем распоряжении данные пользователей «Мегалайна»: кто они, откуда, каким тарифом пользуются, сколько звонков и сообщений каждый отправил за один год. Нужно проанализировать поведение клиентов и сделать вывод — какой тариф лучше.\n",
    "\n",
    "### Описание данных\n",
    "Таблица `users` (информация о пользователях):\n",
    "* `user_id` — уникальный идентификатор пользователя\n",
    "* `first_name` — имя пользователя\n",
    "* `last_name` — фамилия пользователя\n",
    "* `age` — возраст пользователя (годы)\n",
    "* `reg_date` — дата подключения тарифа (день, месяц, год)\n",
    "* `churn_date` — дата прекращения пользования тарифом (если значение пропущено, то тариф ещё действовал на момент выгрузки данных)\n",
    "* `city` — город проживания пользователя\n",
    "* `tariff` — название тарифного плана\n",
    "Таблица `calls` (информация о звонках):\n",
    "* `id` — уникальный номер звонка\n",
    "* `call_date` — дата звонка\n",
    "* `duration` — длительность звонка в минутах\n",
    "* `user_id` — идентификатор пользователя, сделавшего звонок\n",
    "Таблица `messages` (информация о сообщениях):\n",
    "* `id` — уникальный номер сообщения\n",
    "* `message_date` — дата сообщения\n",
    "* `user_id` — идентификатор пользователя, отправившего сообщение\n",
    "Таблица `internet` (информация об интернет-сессиях):\n",
    "* `id` — уникальный номер сессии\n",
    "* `mb_used` — объём потраченного за сессию интернет-трафика (в мегабайтах)\n",
    "* `session_date` — дата интернет-сессии\n",
    "* `user_id` — идентификатор пользователя\n",
    "Таблица `tariffs` (информация о тарифах):\n",
    "* `tariff_name` — название тарифа\n",
    "* `rub_monthly_fee` — ежемесячная абонентская плата в рублях\n",
    "* `minutes_included` — количество минут разговора в месяц, включённых в абонентскую плату\n",
    "* `messages_included` — количество сообщений в месяц, включённых в абонентскую плату\n",
    "* `mb_per_month_included` — объём интернет-трафика, включённого в абонентскую плату (в мегабайтах)\n",
    "* `rub_per_minute` — стоимость минуты разговора сверх тарифного пакета (например, если в тарифе 100 минут разговора в месяц, то со 101 минуты будет взиматься плата)\n",
    "* `rub_per_message` — стоимость отправки сообщения сверх тарифного пакета\n",
    "* `rub_per_gb` — стоимость дополнительного гигабайта интернет-трафика сверх тарифного пакета (1 гигабайт = 1024 мегабайта)\n",
    "\n",
    "## Общие функции для работы с данными"
   ]
  },
  {
   "cell_type": "code",
   "execution_count": 1,
   "metadata": {},
   "outputs": [],
   "source": [
    "import matplotlib.pyplot as plt\n",
    "\n",
    "# Функция print_hist для вывода гистограмм\n",
    "#  - data - датафрейм или колонка\n",
    "#  - bins_count - число корзин гистограммы\n",
    "#  - size - размер рисунка\n",
    "#  - title - заголовок гистограммы\n",
    "#  - x_name - название оси абсцисс\n",
    "#  - y_name - названи оси ординат\n",
    "\n",
    "def print_hist(data, bins_count, size, plot_title, x_name, y_name):\n",
    "    data.hist(bins = bins_count, figsize=size)\n",
    "    plt.grid(True)\n",
    "    plt.title(plot_title)\n",
    "    plt.xlabel(x_name)\n",
    "    plt.ylabel(y_name)\n",
    "    plt.show()"
   ]
  },
  {
   "cell_type": "markdown",
   "metadata": {},
   "source": [
    "## Шаг 1. Открытие файлов с данными и изучение общей информации"
   ]
  },
  {
   "cell_type": "code",
   "execution_count": 2,
   "metadata": {},
   "outputs": [],
   "source": [
    "import pandas as pd\n",
    "\n",
    "calls = pd.read_csv('/datasets/calls.csv')\n",
    "internet = pd.read_csv('/datasets/internet.csv')\n",
    "messages = pd.read_csv('/datasets/messages.csv')\n",
    "tariffs = pd.read_csv('/datasets/tariffs.csv')\n",
    "users = pd.read_csv('/datasets/users.csv')"
   ]
  },
  {
   "cell_type": "markdown",
   "metadata": {},
   "source": [
    "Изучим общую информацию по каждому файлу и посмотрим примеры данных.\n",
    "###  Информация о звонках (calls)"
   ]
  },
  {
   "cell_type": "code",
   "execution_count": 3,
   "metadata": {},
   "outputs": [
    {
     "name": "stdout",
     "output_type": "stream",
     "text": [
      "<class 'pandas.core.frame.DataFrame'>\n",
      "RangeIndex: 202607 entries, 0 to 202606\n",
      "Data columns (total 4 columns):\n",
      "id           202607 non-null object\n",
      "call_date    202607 non-null object\n",
      "duration     202607 non-null float64\n",
      "user_id      202607 non-null int64\n",
      "dtypes: float64(1), int64(1), object(2)\n",
      "memory usage: 6.2+ MB\n"
     ]
    },
    {
     "data": {
      "text/html": [
       "<div>\n",
       "<style scoped>\n",
       "    .dataframe tbody tr th:only-of-type {\n",
       "        vertical-align: middle;\n",
       "    }\n",
       "\n",
       "    .dataframe tbody tr th {\n",
       "        vertical-align: top;\n",
       "    }\n",
       "\n",
       "    .dataframe thead th {\n",
       "        text-align: right;\n",
       "    }\n",
       "</style>\n",
       "<table border=\"1\" class=\"dataframe\">\n",
       "  <thead>\n",
       "    <tr style=\"text-align: right;\">\n",
       "      <th></th>\n",
       "      <th>id</th>\n",
       "      <th>call_date</th>\n",
       "      <th>duration</th>\n",
       "      <th>user_id</th>\n",
       "    </tr>\n",
       "  </thead>\n",
       "  <tbody>\n",
       "    <tr>\n",
       "      <td>0</td>\n",
       "      <td>1000_0</td>\n",
       "      <td>2018-07-25</td>\n",
       "      <td>0.00</td>\n",
       "      <td>1000</td>\n",
       "    </tr>\n",
       "    <tr>\n",
       "      <td>1</td>\n",
       "      <td>1000_1</td>\n",
       "      <td>2018-08-17</td>\n",
       "      <td>0.00</td>\n",
       "      <td>1000</td>\n",
       "    </tr>\n",
       "    <tr>\n",
       "      <td>2</td>\n",
       "      <td>1000_2</td>\n",
       "      <td>2018-06-11</td>\n",
       "      <td>2.85</td>\n",
       "      <td>1000</td>\n",
       "    </tr>\n",
       "    <tr>\n",
       "      <td>3</td>\n",
       "      <td>1000_3</td>\n",
       "      <td>2018-09-21</td>\n",
       "      <td>13.80</td>\n",
       "      <td>1000</td>\n",
       "    </tr>\n",
       "    <tr>\n",
       "      <td>4</td>\n",
       "      <td>1000_4</td>\n",
       "      <td>2018-12-15</td>\n",
       "      <td>5.18</td>\n",
       "      <td>1000</td>\n",
       "    </tr>\n",
       "  </tbody>\n",
       "</table>\n",
       "</div>"
      ],
      "text/plain": [
       "       id   call_date  duration  user_id\n",
       "0  1000_0  2018-07-25      0.00     1000\n",
       "1  1000_1  2018-08-17      0.00     1000\n",
       "2  1000_2  2018-06-11      2.85     1000\n",
       "3  1000_3  2018-09-21     13.80     1000\n",
       "4  1000_4  2018-12-15      5.18     1000"
      ]
     },
     "execution_count": 3,
     "metadata": {},
     "output_type": "execute_result"
    }
   ],
   "source": [
    "calls.info()\n",
    "calls.head()"
   ]
  },
  {
   "cell_type": "markdown",
   "metadata": {},
   "source": [
    "* Параметр `call_date` имеет строковый формат, необходимо преобразовать его к дате.\n",
    "* Некоторые звонки имеют длительность 0 секунд"
   ]
  },
  {
   "cell_type": "markdown",
   "metadata": {},
   "source": [
    "### Информация об интернет-сессиях (internet)"
   ]
  },
  {
   "cell_type": "code",
   "execution_count": 4,
   "metadata": {},
   "outputs": [
    {
     "name": "stdout",
     "output_type": "stream",
     "text": [
      "<class 'pandas.core.frame.DataFrame'>\n",
      "RangeIndex: 149396 entries, 0 to 149395\n",
      "Data columns (total 5 columns):\n",
      "Unnamed: 0      149396 non-null int64\n",
      "id              149396 non-null object\n",
      "mb_used         149396 non-null float64\n",
      "session_date    149396 non-null object\n",
      "user_id         149396 non-null int64\n",
      "dtypes: float64(1), int64(2), object(2)\n",
      "memory usage: 5.7+ MB\n"
     ]
    },
    {
     "data": {
      "text/html": [
       "<div>\n",
       "<style scoped>\n",
       "    .dataframe tbody tr th:only-of-type {\n",
       "        vertical-align: middle;\n",
       "    }\n",
       "\n",
       "    .dataframe tbody tr th {\n",
       "        vertical-align: top;\n",
       "    }\n",
       "\n",
       "    .dataframe thead th {\n",
       "        text-align: right;\n",
       "    }\n",
       "</style>\n",
       "<table border=\"1\" class=\"dataframe\">\n",
       "  <thead>\n",
       "    <tr style=\"text-align: right;\">\n",
       "      <th></th>\n",
       "      <th>Unnamed: 0</th>\n",
       "      <th>id</th>\n",
       "      <th>mb_used</th>\n",
       "      <th>session_date</th>\n",
       "      <th>user_id</th>\n",
       "    </tr>\n",
       "  </thead>\n",
       "  <tbody>\n",
       "    <tr>\n",
       "      <td>0</td>\n",
       "      <td>0</td>\n",
       "      <td>1000_0</td>\n",
       "      <td>112.95</td>\n",
       "      <td>2018-11-25</td>\n",
       "      <td>1000</td>\n",
       "    </tr>\n",
       "    <tr>\n",
       "      <td>1</td>\n",
       "      <td>1</td>\n",
       "      <td>1000_1</td>\n",
       "      <td>1052.81</td>\n",
       "      <td>2018-09-07</td>\n",
       "      <td>1000</td>\n",
       "    </tr>\n",
       "    <tr>\n",
       "      <td>2</td>\n",
       "      <td>2</td>\n",
       "      <td>1000_2</td>\n",
       "      <td>1197.26</td>\n",
       "      <td>2018-06-25</td>\n",
       "      <td>1000</td>\n",
       "    </tr>\n",
       "    <tr>\n",
       "      <td>3</td>\n",
       "      <td>3</td>\n",
       "      <td>1000_3</td>\n",
       "      <td>550.27</td>\n",
       "      <td>2018-08-22</td>\n",
       "      <td>1000</td>\n",
       "    </tr>\n",
       "    <tr>\n",
       "      <td>4</td>\n",
       "      <td>4</td>\n",
       "      <td>1000_4</td>\n",
       "      <td>302.56</td>\n",
       "      <td>2018-09-24</td>\n",
       "      <td>1000</td>\n",
       "    </tr>\n",
       "    <tr>\n",
       "      <td>...</td>\n",
       "      <td>...</td>\n",
       "      <td>...</td>\n",
       "      <td>...</td>\n",
       "      <td>...</td>\n",
       "      <td>...</td>\n",
       "    </tr>\n",
       "    <tr>\n",
       "      <td>149391</td>\n",
       "      <td>149391</td>\n",
       "      <td>1499_152</td>\n",
       "      <td>318.90</td>\n",
       "      <td>2018-10-03</td>\n",
       "      <td>1499</td>\n",
       "    </tr>\n",
       "    <tr>\n",
       "      <td>149392</td>\n",
       "      <td>149392</td>\n",
       "      <td>1499_153</td>\n",
       "      <td>490.13</td>\n",
       "      <td>2018-12-14</td>\n",
       "      <td>1499</td>\n",
       "    </tr>\n",
       "    <tr>\n",
       "      <td>149393</td>\n",
       "      <td>149393</td>\n",
       "      <td>1499_154</td>\n",
       "      <td>0.00</td>\n",
       "      <td>2018-10-27</td>\n",
       "      <td>1499</td>\n",
       "    </tr>\n",
       "    <tr>\n",
       "      <td>149394</td>\n",
       "      <td>149394</td>\n",
       "      <td>1499_155</td>\n",
       "      <td>1246.32</td>\n",
       "      <td>2018-11-26</td>\n",
       "      <td>1499</td>\n",
       "    </tr>\n",
       "    <tr>\n",
       "      <td>149395</td>\n",
       "      <td>149395</td>\n",
       "      <td>1499_156</td>\n",
       "      <td>544.37</td>\n",
       "      <td>2018-10-26</td>\n",
       "      <td>1499</td>\n",
       "    </tr>\n",
       "  </tbody>\n",
       "</table>\n",
       "<p>149396 rows × 5 columns</p>\n",
       "</div>"
      ],
      "text/plain": [
       "        Unnamed: 0        id  mb_used session_date  user_id\n",
       "0                0    1000_0   112.95   2018-11-25     1000\n",
       "1                1    1000_1  1052.81   2018-09-07     1000\n",
       "2                2    1000_2  1197.26   2018-06-25     1000\n",
       "3                3    1000_3   550.27   2018-08-22     1000\n",
       "4                4    1000_4   302.56   2018-09-24     1000\n",
       "...            ...       ...      ...          ...      ...\n",
       "149391      149391  1499_152   318.90   2018-10-03     1499\n",
       "149392      149392  1499_153   490.13   2018-12-14     1499\n",
       "149393      149393  1499_154     0.00   2018-10-27     1499\n",
       "149394      149394  1499_155  1246.32   2018-11-26     1499\n",
       "149395      149395  1499_156   544.37   2018-10-26     1499\n",
       "\n",
       "[149396 rows x 5 columns]"
      ]
     },
     "execution_count": 4,
     "metadata": {},
     "output_type": "execute_result"
    }
   ],
   "source": [
    "internet.info()\n",
    "internet"
   ]
  },
  {
   "cell_type": "markdown",
   "metadata": {},
   "source": [
    "В текущем датасете имеется незадокументированная колонка `Unnamed: 0`. Смысловой нагрузки она не несет. По сути ее содержимое равно текущему индексу записи. Нужно будет удалить данную колонку на шаге предобработки данных.\n",
    "\n",
    "Имеются записи с объем потраченного трафика равен 0."
   ]
  },
  {
   "cell_type": "markdown",
   "metadata": {},
   "source": [
    "### Информация о сообщениях (messages):"
   ]
  },
  {
   "cell_type": "code",
   "execution_count": 5,
   "metadata": {},
   "outputs": [
    {
     "name": "stdout",
     "output_type": "stream",
     "text": [
      "<class 'pandas.core.frame.DataFrame'>\n",
      "RangeIndex: 123036 entries, 0 to 123035\n",
      "Data columns (total 3 columns):\n",
      "id              123036 non-null object\n",
      "message_date    123036 non-null object\n",
      "user_id         123036 non-null int64\n",
      "dtypes: int64(1), object(2)\n",
      "memory usage: 2.8+ MB\n"
     ]
    },
    {
     "data": {
      "text/html": [
       "<div>\n",
       "<style scoped>\n",
       "    .dataframe tbody tr th:only-of-type {\n",
       "        vertical-align: middle;\n",
       "    }\n",
       "\n",
       "    .dataframe tbody tr th {\n",
       "        vertical-align: top;\n",
       "    }\n",
       "\n",
       "    .dataframe thead th {\n",
       "        text-align: right;\n",
       "    }\n",
       "</style>\n",
       "<table border=\"1\" class=\"dataframe\">\n",
       "  <thead>\n",
       "    <tr style=\"text-align: right;\">\n",
       "      <th></th>\n",
       "      <th>id</th>\n",
       "      <th>message_date</th>\n",
       "      <th>user_id</th>\n",
       "    </tr>\n",
       "  </thead>\n",
       "  <tbody>\n",
       "    <tr>\n",
       "      <td>0</td>\n",
       "      <td>1000_0</td>\n",
       "      <td>2018-06-27</td>\n",
       "      <td>1000</td>\n",
       "    </tr>\n",
       "    <tr>\n",
       "      <td>1</td>\n",
       "      <td>1000_1</td>\n",
       "      <td>2018-10-08</td>\n",
       "      <td>1000</td>\n",
       "    </tr>\n",
       "    <tr>\n",
       "      <td>2</td>\n",
       "      <td>1000_2</td>\n",
       "      <td>2018-08-04</td>\n",
       "      <td>1000</td>\n",
       "    </tr>\n",
       "    <tr>\n",
       "      <td>3</td>\n",
       "      <td>1000_3</td>\n",
       "      <td>2018-06-16</td>\n",
       "      <td>1000</td>\n",
       "    </tr>\n",
       "    <tr>\n",
       "      <td>4</td>\n",
       "      <td>1000_4</td>\n",
       "      <td>2018-12-05</td>\n",
       "      <td>1000</td>\n",
       "    </tr>\n",
       "  </tbody>\n",
       "</table>\n",
       "</div>"
      ],
      "text/plain": [
       "       id message_date  user_id\n",
       "0  1000_0   2018-06-27     1000\n",
       "1  1000_1   2018-10-08     1000\n",
       "2  1000_2   2018-08-04     1000\n",
       "3  1000_3   2018-06-16     1000\n",
       "4  1000_4   2018-12-05     1000"
      ]
     },
     "execution_count": 5,
     "metadata": {},
     "output_type": "execute_result"
    }
   ],
   "source": [
    "messages.info()\n",
    "messages.head()"
   ]
  },
  {
   "cell_type": "markdown",
   "metadata": {},
   "source": [
    "Параметр `message_date` имеет строковый формат, необходимо будет преобразовать эти данные к формату даты."
   ]
  },
  {
   "cell_type": "markdown",
   "metadata": {},
   "source": [
    "### Информация о тарифах (tariffs)"
   ]
  },
  {
   "cell_type": "code",
   "execution_count": 6,
   "metadata": {},
   "outputs": [
    {
     "name": "stdout",
     "output_type": "stream",
     "text": [
      "<class 'pandas.core.frame.DataFrame'>\n",
      "RangeIndex: 2 entries, 0 to 1\n",
      "Data columns (total 8 columns):\n",
      "messages_included        2 non-null int64\n",
      "mb_per_month_included    2 non-null int64\n",
      "minutes_included         2 non-null int64\n",
      "rub_monthly_fee          2 non-null int64\n",
      "rub_per_gb               2 non-null int64\n",
      "rub_per_message          2 non-null int64\n",
      "rub_per_minute           2 non-null int64\n",
      "tariff_name              2 non-null object\n",
      "dtypes: int64(7), object(1)\n",
      "memory usage: 256.0+ bytes\n"
     ]
    },
    {
     "data": {
      "text/html": [
       "<div>\n",
       "<style scoped>\n",
       "    .dataframe tbody tr th:only-of-type {\n",
       "        vertical-align: middle;\n",
       "    }\n",
       "\n",
       "    .dataframe tbody tr th {\n",
       "        vertical-align: top;\n",
       "    }\n",
       "\n",
       "    .dataframe thead th {\n",
       "        text-align: right;\n",
       "    }\n",
       "</style>\n",
       "<table border=\"1\" class=\"dataframe\">\n",
       "  <thead>\n",
       "    <tr style=\"text-align: right;\">\n",
       "      <th></th>\n",
       "      <th>messages_included</th>\n",
       "      <th>mb_per_month_included</th>\n",
       "      <th>minutes_included</th>\n",
       "      <th>rub_monthly_fee</th>\n",
       "      <th>rub_per_gb</th>\n",
       "      <th>rub_per_message</th>\n",
       "      <th>rub_per_minute</th>\n",
       "      <th>tariff_name</th>\n",
       "    </tr>\n",
       "  </thead>\n",
       "  <tbody>\n",
       "    <tr>\n",
       "      <td>0</td>\n",
       "      <td>50</td>\n",
       "      <td>15360</td>\n",
       "      <td>500</td>\n",
       "      <td>550</td>\n",
       "      <td>200</td>\n",
       "      <td>3</td>\n",
       "      <td>3</td>\n",
       "      <td>smart</td>\n",
       "    </tr>\n",
       "    <tr>\n",
       "      <td>1</td>\n",
       "      <td>1000</td>\n",
       "      <td>30720</td>\n",
       "      <td>3000</td>\n",
       "      <td>1950</td>\n",
       "      <td>150</td>\n",
       "      <td>1</td>\n",
       "      <td>1</td>\n",
       "      <td>ultra</td>\n",
       "    </tr>\n",
       "  </tbody>\n",
       "</table>\n",
       "</div>"
      ],
      "text/plain": [
       "   messages_included  mb_per_month_included  minutes_included  \\\n",
       "0                 50                  15360               500   \n",
       "1               1000                  30720              3000   \n",
       "\n",
       "   rub_monthly_fee  rub_per_gb  rub_per_message  rub_per_minute tariff_name  \n",
       "0              550         200                3               3       smart  \n",
       "1             1950         150                1               1       ultra  "
      ]
     },
     "execution_count": 6,
     "metadata": {},
     "output_type": "execute_result"
    }
   ],
   "source": [
    "tariffs.info()\n",
    "tariffs"
   ]
  },
  {
   "cell_type": "markdown",
   "metadata": {},
   "source": [
    "В этом наборе данных проблем не наблюдается."
   ]
  },
  {
   "cell_type": "markdown",
   "metadata": {},
   "source": [
    "### Информация о пользователях (users)"
   ]
  },
  {
   "cell_type": "code",
   "execution_count": 7,
   "metadata": {},
   "outputs": [
    {
     "name": "stdout",
     "output_type": "stream",
     "text": [
      "<class 'pandas.core.frame.DataFrame'>\n",
      "RangeIndex: 500 entries, 0 to 499\n",
      "Data columns (total 8 columns):\n",
      "user_id       500 non-null int64\n",
      "age           500 non-null int64\n",
      "churn_date    38 non-null object\n",
      "city          500 non-null object\n",
      "first_name    500 non-null object\n",
      "last_name     500 non-null object\n",
      "reg_date      500 non-null object\n",
      "tariff        500 non-null object\n",
      "dtypes: int64(2), object(6)\n",
      "memory usage: 31.4+ KB\n"
     ]
    },
    {
     "data": {
      "text/html": [
       "<div>\n",
       "<style scoped>\n",
       "    .dataframe tbody tr th:only-of-type {\n",
       "        vertical-align: middle;\n",
       "    }\n",
       "\n",
       "    .dataframe tbody tr th {\n",
       "        vertical-align: top;\n",
       "    }\n",
       "\n",
       "    .dataframe thead th {\n",
       "        text-align: right;\n",
       "    }\n",
       "</style>\n",
       "<table border=\"1\" class=\"dataframe\">\n",
       "  <thead>\n",
       "    <tr style=\"text-align: right;\">\n",
       "      <th></th>\n",
       "      <th>user_id</th>\n",
       "      <th>age</th>\n",
       "      <th>churn_date</th>\n",
       "      <th>city</th>\n",
       "      <th>first_name</th>\n",
       "      <th>last_name</th>\n",
       "      <th>reg_date</th>\n",
       "      <th>tariff</th>\n",
       "    </tr>\n",
       "  </thead>\n",
       "  <tbody>\n",
       "    <tr>\n",
       "      <td>0</td>\n",
       "      <td>1000</td>\n",
       "      <td>52</td>\n",
       "      <td>NaN</td>\n",
       "      <td>Краснодар</td>\n",
       "      <td>Рафаил</td>\n",
       "      <td>Верещагин</td>\n",
       "      <td>2018-05-25</td>\n",
       "      <td>ultra</td>\n",
       "    </tr>\n",
       "    <tr>\n",
       "      <td>1</td>\n",
       "      <td>1001</td>\n",
       "      <td>41</td>\n",
       "      <td>NaN</td>\n",
       "      <td>Москва</td>\n",
       "      <td>Иван</td>\n",
       "      <td>Ежов</td>\n",
       "      <td>2018-11-01</td>\n",
       "      <td>smart</td>\n",
       "    </tr>\n",
       "    <tr>\n",
       "      <td>2</td>\n",
       "      <td>1002</td>\n",
       "      <td>59</td>\n",
       "      <td>NaN</td>\n",
       "      <td>Стерлитамак</td>\n",
       "      <td>Евгений</td>\n",
       "      <td>Абрамович</td>\n",
       "      <td>2018-06-17</td>\n",
       "      <td>smart</td>\n",
       "    </tr>\n",
       "    <tr>\n",
       "      <td>3</td>\n",
       "      <td>1003</td>\n",
       "      <td>23</td>\n",
       "      <td>NaN</td>\n",
       "      <td>Москва</td>\n",
       "      <td>Белла</td>\n",
       "      <td>Белякова</td>\n",
       "      <td>2018-08-17</td>\n",
       "      <td>ultra</td>\n",
       "    </tr>\n",
       "    <tr>\n",
       "      <td>4</td>\n",
       "      <td>1004</td>\n",
       "      <td>68</td>\n",
       "      <td>NaN</td>\n",
       "      <td>Новокузнецк</td>\n",
       "      <td>Татьяна</td>\n",
       "      <td>Авдеенко</td>\n",
       "      <td>2018-05-14</td>\n",
       "      <td>ultra</td>\n",
       "    </tr>\n",
       "  </tbody>\n",
       "</table>\n",
       "</div>"
      ],
      "text/plain": [
       "   user_id  age churn_date         city first_name  last_name    reg_date  \\\n",
       "0     1000   52        NaN    Краснодар     Рафаил  Верещагин  2018-05-25   \n",
       "1     1001   41        NaN       Москва       Иван       Ежов  2018-11-01   \n",
       "2     1002   59        NaN  Стерлитамак    Евгений  Абрамович  2018-06-17   \n",
       "3     1003   23        NaN       Москва      Белла   Белякова  2018-08-17   \n",
       "4     1004   68        NaN  Новокузнецк    Татьяна   Авдеенко  2018-05-14   \n",
       "\n",
       "  tariff  \n",
       "0  ultra  \n",
       "1  smart  \n",
       "2  smart  \n",
       "3  ultra  \n",
       "4  ultra  "
      ]
     },
     "execution_count": 7,
     "metadata": {},
     "output_type": "execute_result"
    }
   ],
   "source": [
    "users.info()\n",
    "users.head()"
   ]
  },
  {
   "cell_type": "markdown",
   "metadata": {},
   "source": [
    "* Параметры `churn_date` и `reg_date`\n",
    "имеют строковый формат, необходимо их преобразовать к датам.\n",
    "* В параметре с датой прекращения пользования тарифом (`churn_date`) есть пропущенные значения. Но это штатная ситуация: согласно заданию, если значение пропущено, то тариф ещё действовал на момент выгрузки данных."
   ]
  },
  {
   "cell_type": "markdown",
   "metadata": {},
   "source": [
    "### Выводы по шагу 1\n",
    "На основе общей информации видно, что:\n",
    "* Файлы с данными об интернет-сессиях (`internet`), звонках (`calls`) и сообщениях (`messages`) содержат большое количество записей. Нужно внимательно выбирать методы обработки этих записей, выбирая наименне затратные по производительные решения.\n",
    "* Параметры с датами необходимо преобразовать из строк в формат с датами.\n",
    "* В файле с данными об интернет-сессиях (`internet`) имеется лишний столбец, который необходимо удалить.\n",
    "* Возможно некоторые столбцы с типом `float` лучше перевести в целочисленному типу, округлив значения. Возможно это упростит обработку данных.\n",
    "* Некоторые звонки имеют длительность 0 секунд, а также с нулевым объемом потраченного трафика. Необходимо решить, что с ними делать и как наше решение повлияет на результаты анализа данных."
   ]
  },
  {
   "cell_type": "markdown",
   "metadata": {},
   "source": [
    "## Шаг 2. Подготовка данных\n",
    "### Приведение данных к нужным типам\n",
    "#### Приведение к типу дат\n",
    "Ранее мы обнаружили, что в данных имеются несколько колонок с датами, но они имеют строковый тип. Приведем данные в этих столбцах с типу даты."
   ]
  },
  {
   "cell_type": "code",
   "execution_count": 8,
   "metadata": {},
   "outputs": [],
   "source": [
    "calls['call_date'] = pd.to_datetime(calls['call_date'], format='%Y-%m-%d')\n",
    "internet['session_date'] = pd.to_datetime(internet['session_date'], format='%Y-%m-%d')\n",
    "messages['message_date'] = pd.to_datetime(messages['message_date'], format='%Y-%m-%d')\n",
    "users['churn_date'] = pd.to_datetime(users['churn_date'], format='%Y-%m-%d')\n",
    "users['reg_date'] = pd.to_datetime(users['reg_date'], format='%Y-%m-%d')"
   ]
  },
  {
   "cell_type": "markdown",
   "metadata": {},
   "source": [
    "#### Приведение параметров с типом float к int\n",
    "В задании сказано, что «Мегалайн» всегда округляет вверх значения минут и мегабайтов. Если пользователь проговорил всего 1 секунду, в тарифе засчитывается целая минута.\n",
    "Поэтому для упрощения последующего анализа приведем параметры длительности звонка (`calls['duration']`) и объёма потраченного за сессию интернет-трафика (`internet['mb_used']`) к целочисленному типу, округлив значения до большего."
   ]
  },
  {
   "cell_type": "code",
   "execution_count": 9,
   "metadata": {},
   "outputs": [
    {
     "data": {
      "text/html": [
       "<div>\n",
       "<style scoped>\n",
       "    .dataframe tbody tr th:only-of-type {\n",
       "        vertical-align: middle;\n",
       "    }\n",
       "\n",
       "    .dataframe tbody tr th {\n",
       "        vertical-align: top;\n",
       "    }\n",
       "\n",
       "    .dataframe thead th {\n",
       "        text-align: right;\n",
       "    }\n",
       "</style>\n",
       "<table border=\"1\" class=\"dataframe\">\n",
       "  <thead>\n",
       "    <tr style=\"text-align: right;\">\n",
       "      <th></th>\n",
       "      <th>id</th>\n",
       "      <th>call_date</th>\n",
       "      <th>duration</th>\n",
       "      <th>user_id</th>\n",
       "    </tr>\n",
       "  </thead>\n",
       "  <tbody>\n",
       "    <tr>\n",
       "      <td>0</td>\n",
       "      <td>1000_0</td>\n",
       "      <td>2018-07-25</td>\n",
       "      <td>0</td>\n",
       "      <td>1000</td>\n",
       "    </tr>\n",
       "    <tr>\n",
       "      <td>1</td>\n",
       "      <td>1000_1</td>\n",
       "      <td>2018-08-17</td>\n",
       "      <td>0</td>\n",
       "      <td>1000</td>\n",
       "    </tr>\n",
       "    <tr>\n",
       "      <td>2</td>\n",
       "      <td>1000_2</td>\n",
       "      <td>2018-06-11</td>\n",
       "      <td>3</td>\n",
       "      <td>1000</td>\n",
       "    </tr>\n",
       "    <tr>\n",
       "      <td>3</td>\n",
       "      <td>1000_3</td>\n",
       "      <td>2018-09-21</td>\n",
       "      <td>14</td>\n",
       "      <td>1000</td>\n",
       "    </tr>\n",
       "    <tr>\n",
       "      <td>4</td>\n",
       "      <td>1000_4</td>\n",
       "      <td>2018-12-15</td>\n",
       "      <td>6</td>\n",
       "      <td>1000</td>\n",
       "    </tr>\n",
       "    <tr>\n",
       "      <td>...</td>\n",
       "      <td>...</td>\n",
       "      <td>...</td>\n",
       "      <td>...</td>\n",
       "      <td>...</td>\n",
       "    </tr>\n",
       "    <tr>\n",
       "      <td>202602</td>\n",
       "      <td>1499_215</td>\n",
       "      <td>2018-12-26</td>\n",
       "      <td>1</td>\n",
       "      <td>1499</td>\n",
       "    </tr>\n",
       "    <tr>\n",
       "      <td>202603</td>\n",
       "      <td>1499_216</td>\n",
       "      <td>2018-10-18</td>\n",
       "      <td>19</td>\n",
       "      <td>1499</td>\n",
       "    </tr>\n",
       "    <tr>\n",
       "      <td>202604</td>\n",
       "      <td>1499_217</td>\n",
       "      <td>2018-11-10</td>\n",
       "      <td>11</td>\n",
       "      <td>1499</td>\n",
       "    </tr>\n",
       "    <tr>\n",
       "      <td>202605</td>\n",
       "      <td>1499_218</td>\n",
       "      <td>2018-10-06</td>\n",
       "      <td>5</td>\n",
       "      <td>1499</td>\n",
       "    </tr>\n",
       "    <tr>\n",
       "      <td>202606</td>\n",
       "      <td>1499_219</td>\n",
       "      <td>2018-12-14</td>\n",
       "      <td>20</td>\n",
       "      <td>1499</td>\n",
       "    </tr>\n",
       "  </tbody>\n",
       "</table>\n",
       "<p>202607 rows × 4 columns</p>\n",
       "</div>"
      ],
      "text/plain": [
       "              id  call_date  duration  user_id\n",
       "0         1000_0 2018-07-25         0     1000\n",
       "1         1000_1 2018-08-17         0     1000\n",
       "2         1000_2 2018-06-11         3     1000\n",
       "3         1000_3 2018-09-21        14     1000\n",
       "4         1000_4 2018-12-15         6     1000\n",
       "...          ...        ...       ...      ...\n",
       "202602  1499_215 2018-12-26         1     1499\n",
       "202603  1499_216 2018-10-18        19     1499\n",
       "202604  1499_217 2018-11-10        11     1499\n",
       "202605  1499_218 2018-10-06         5     1499\n",
       "202606  1499_219 2018-12-14        20     1499\n",
       "\n",
       "[202607 rows x 4 columns]"
      ]
     },
     "execution_count": 9,
     "metadata": {},
     "output_type": "execute_result"
    }
   ],
   "source": [
    "#добавление библиотеки numpy для округления\n",
    "import numpy as np\n",
    "#округление значение в большую сторону\n",
    "calls['duration'] = calls['duration'].apply(np.ceil)\n",
    "#приведение колонки к типу int\n",
    "calls['duration'] = calls['duration'].astype('int')\n",
    "calls"
   ]
  },
  {
   "cell_type": "code",
   "execution_count": 10,
   "metadata": {},
   "outputs": [
    {
     "data": {
      "text/html": [
       "<div>\n",
       "<style scoped>\n",
       "    .dataframe tbody tr th:only-of-type {\n",
       "        vertical-align: middle;\n",
       "    }\n",
       "\n",
       "    .dataframe tbody tr th {\n",
       "        vertical-align: top;\n",
       "    }\n",
       "\n",
       "    .dataframe thead th {\n",
       "        text-align: right;\n",
       "    }\n",
       "</style>\n",
       "<table border=\"1\" class=\"dataframe\">\n",
       "  <thead>\n",
       "    <tr style=\"text-align: right;\">\n",
       "      <th></th>\n",
       "      <th>Unnamed: 0</th>\n",
       "      <th>id</th>\n",
       "      <th>mb_used</th>\n",
       "      <th>session_date</th>\n",
       "      <th>user_id</th>\n",
       "    </tr>\n",
       "  </thead>\n",
       "  <tbody>\n",
       "    <tr>\n",
       "      <td>0</td>\n",
       "      <td>0</td>\n",
       "      <td>1000_0</td>\n",
       "      <td>113</td>\n",
       "      <td>2018-11-25</td>\n",
       "      <td>1000</td>\n",
       "    </tr>\n",
       "    <tr>\n",
       "      <td>1</td>\n",
       "      <td>1</td>\n",
       "      <td>1000_1</td>\n",
       "      <td>1053</td>\n",
       "      <td>2018-09-07</td>\n",
       "      <td>1000</td>\n",
       "    </tr>\n",
       "    <tr>\n",
       "      <td>2</td>\n",
       "      <td>2</td>\n",
       "      <td>1000_2</td>\n",
       "      <td>1198</td>\n",
       "      <td>2018-06-25</td>\n",
       "      <td>1000</td>\n",
       "    </tr>\n",
       "    <tr>\n",
       "      <td>3</td>\n",
       "      <td>3</td>\n",
       "      <td>1000_3</td>\n",
       "      <td>551</td>\n",
       "      <td>2018-08-22</td>\n",
       "      <td>1000</td>\n",
       "    </tr>\n",
       "    <tr>\n",
       "      <td>4</td>\n",
       "      <td>4</td>\n",
       "      <td>1000_4</td>\n",
       "      <td>303</td>\n",
       "      <td>2018-09-24</td>\n",
       "      <td>1000</td>\n",
       "    </tr>\n",
       "    <tr>\n",
       "      <td>...</td>\n",
       "      <td>...</td>\n",
       "      <td>...</td>\n",
       "      <td>...</td>\n",
       "      <td>...</td>\n",
       "      <td>...</td>\n",
       "    </tr>\n",
       "    <tr>\n",
       "      <td>149391</td>\n",
       "      <td>149391</td>\n",
       "      <td>1499_152</td>\n",
       "      <td>319</td>\n",
       "      <td>2018-10-03</td>\n",
       "      <td>1499</td>\n",
       "    </tr>\n",
       "    <tr>\n",
       "      <td>149392</td>\n",
       "      <td>149392</td>\n",
       "      <td>1499_153</td>\n",
       "      <td>491</td>\n",
       "      <td>2018-12-14</td>\n",
       "      <td>1499</td>\n",
       "    </tr>\n",
       "    <tr>\n",
       "      <td>149393</td>\n",
       "      <td>149393</td>\n",
       "      <td>1499_154</td>\n",
       "      <td>0</td>\n",
       "      <td>2018-10-27</td>\n",
       "      <td>1499</td>\n",
       "    </tr>\n",
       "    <tr>\n",
       "      <td>149394</td>\n",
       "      <td>149394</td>\n",
       "      <td>1499_155</td>\n",
       "      <td>1247</td>\n",
       "      <td>2018-11-26</td>\n",
       "      <td>1499</td>\n",
       "    </tr>\n",
       "    <tr>\n",
       "      <td>149395</td>\n",
       "      <td>149395</td>\n",
       "      <td>1499_156</td>\n",
       "      <td>545</td>\n",
       "      <td>2018-10-26</td>\n",
       "      <td>1499</td>\n",
       "    </tr>\n",
       "  </tbody>\n",
       "</table>\n",
       "<p>149396 rows × 5 columns</p>\n",
       "</div>"
      ],
      "text/plain": [
       "        Unnamed: 0        id  mb_used session_date  user_id\n",
       "0                0    1000_0      113   2018-11-25     1000\n",
       "1                1    1000_1     1053   2018-09-07     1000\n",
       "2                2    1000_2     1198   2018-06-25     1000\n",
       "3                3    1000_3      551   2018-08-22     1000\n",
       "4                4    1000_4      303   2018-09-24     1000\n",
       "...            ...       ...      ...          ...      ...\n",
       "149391      149391  1499_152      319   2018-10-03     1499\n",
       "149392      149392  1499_153      491   2018-12-14     1499\n",
       "149393      149393  1499_154        0   2018-10-27     1499\n",
       "149394      149394  1499_155     1247   2018-11-26     1499\n",
       "149395      149395  1499_156      545   2018-10-26     1499\n",
       "\n",
       "[149396 rows x 5 columns]"
      ]
     },
     "execution_count": 10,
     "metadata": {},
     "output_type": "execute_result"
    }
   ],
   "source": [
    "#округление значение в большую сторону\n",
    "internet['mb_used'] = internet['mb_used'].apply(np.ceil)\n",
    "#приведение колонки к типу int\n",
    "internet['mb_used'] = internet['mb_used'].astype('int')\n",
    "internet"
   ]
  },
  {
   "cell_type": "markdown",
   "metadata": {},
   "source": [
    "### Поиск и устранение ошибок в данных\n",
    "#### Удаление лишней колонки\n",
    "Удалим ранее найденную лишнюю колонку `Unnamed: 0` из набора данных `internet`:"
   ]
  },
  {
   "cell_type": "code",
   "execution_count": 11,
   "metadata": {},
   "outputs": [
    {
     "name": "stdout",
     "output_type": "stream",
     "text": [
      "<class 'pandas.core.frame.DataFrame'>\n",
      "RangeIndex: 149396 entries, 0 to 149395\n",
      "Data columns (total 4 columns):\n",
      "id              149396 non-null object\n",
      "mb_used         149396 non-null int64\n",
      "session_date    149396 non-null datetime64[ns]\n",
      "user_id         149396 non-null int64\n",
      "dtypes: datetime64[ns](1), int64(2), object(1)\n",
      "memory usage: 4.6+ MB\n"
     ]
    }
   ],
   "source": [
    "internet = internet.drop(columns=['Unnamed: 0'])\n",
    "internet.info()"
   ]
  },
  {
   "cell_type": "markdown",
   "metadata": {},
   "source": [
    "#### Нулевая продолжительность звонков (calls.duration)\n",
    "Ранее мы обнаружили нулевые значения в данной колонке. Посмотрим подробнее гистограмму:"
   ]
  },
  {
   "cell_type": "code",
   "execution_count": 12,
   "metadata": {},
   "outputs": [
    {
     "data": {
      "image/png": "[encoded data removed]",
      "text/plain": [
       "<Figure size 864x360 with 1 Axes>"
      ]
     },
     "metadata": {
      "image/png": {
       "height": 331,
       "width": 736
      },
      "needs_background": "light"
     },
     "output_type": "display_data"
    }
   ],
   "source": [
    "# Улучшим четкость изображения\n",
    "%config InlineBackend.figure_format = 'retina'\n",
    "# Построение гистограммы\n",
    "print_hist(calls['duration'], 100, (12,5),'Гистограмма продолжительности звонков', 'Длительность звонка', 'Количество звонков')"
   ]
  },
  {
   "cell_type": "code",
   "execution_count": 13,
   "metadata": {},
   "outputs": [
    {
     "name": "stdout",
     "output_type": "stream",
     "text": [
      "Количество записей о звонках продолжительностью 0.0 секунд: 39613\n"
     ]
    }
   ],
   "source": [
    "print('Количество записей о звонках продолжительностью 0.0 секунд:',len(calls.query('duration == 0')))"
   ]
  },
  {
   "cell_type": "markdown",
   "metadata": {},
   "source": [
    "Скорее всего это неотвеченные исходящие звонки. Как бы то ни было, эти данные не повлияют на результаты анализа, поскольку нам необходима сумма потраченных минут за месяц. Поэтому можно их не удалять."
   ]
  },
  {
   "cell_type": "markdown",
   "metadata": {},
   "source": [
    "#### Нулевой расход интернет-трафика (*internet.mb_used*)"
   ]
  },
  {
   "cell_type": "code",
   "execution_count": 14,
   "metadata": {},
   "outputs": [
    {
     "data": {
      "image/png": "[encoded data removed]",
      "text/plain": [
       "<Figure size 864x360 with 1 Axes>"
      ]
     },
     "metadata": {
      "image/png": {
       "height": 332,
       "width": 736
      },
      "needs_background": "light"
     },
     "output_type": "display_data"
    }
   ],
   "source": [
    "print_hist(internet['mb_used'], 200, (12,5),'Гистограмма распределения объема потраченного за сессию интернет-трафика', 'Объем потраченного за сессию интернет-трафика (МБ)', 'Количество сессий')"
   ]
  },
  {
   "cell_type": "markdown",
   "metadata": {},
   "source": [
    "Также, как и для звонков, здесь имеется большое количество Интернет-сессий, во время которых не было передано никаких данных. Для наших задач эти значения также неважны, поэтому не будем удалять их."
   ]
  },
  {
   "cell_type": "markdown",
   "metadata": {},
   "source": [
    "### Подготовка данных к анализу\n",
    "Рассчитаем для каждого пользователя:\n",
    "* количество сделанных звонков и израсходованных минут разговора по месяцам;\n",
    "* количество отправленных сообщений по месяцам;\n",
    "* объем израсходованного интернет-трафика по месяцам;\n",
    "* помесячную выручку с каждого пользователя (вычтите бесплатный лимит из суммарного количества звонков, сообщений и интернет-трафика; остаток умножьте на значение из тарифного плана; прибавьте абонентскую плату, соответствующую тарифному плану)."
   ]
  },
  {
   "cell_type": "markdown",
   "metadata": {},
   "source": [
    "Чтобы построить сводную статистику звонков по месяцам добавим колонку *calls.month* на основе *calls.call_date*, в которой будет содержаться первый день месяца совершения звонка."
   ]
  },
  {
   "cell_type": "code",
   "execution_count": 15,
   "metadata": {},
   "outputs": [],
   "source": [
    "calls['month'] = calls['call_date'].values.astype('datetime64[M]')"
   ]
  },
  {
   "cell_type": "markdown",
   "metadata": {},
   "source": [
    "Создадим датафрейм `calls_stat` с помесячной информацией о суммарном количестве сделанных звонков и израсходованных минут разговора по каждому пользователю"
   ]
  },
  {
   "cell_type": "code",
   "execution_count": 16,
   "metadata": {},
   "outputs": [
    {
     "data": {
      "text/html": [
       "<div>\n",
       "<style scoped>\n",
       "    .dataframe tbody tr th:only-of-type {\n",
       "        vertical-align: middle;\n",
       "    }\n",
       "\n",
       "    .dataframe tbody tr th {\n",
       "        vertical-align: top;\n",
       "    }\n",
       "\n",
       "    .dataframe thead th {\n",
       "        text-align: right;\n",
       "    }\n",
       "</style>\n",
       "<table border=\"1\" class=\"dataframe\">\n",
       "  <thead>\n",
       "    <tr style=\"text-align: right;\">\n",
       "      <th></th>\n",
       "      <th>user_id</th>\n",
       "      <th>month</th>\n",
       "      <th>calls</th>\n",
       "      <th>minutes</th>\n",
       "    </tr>\n",
       "  </thead>\n",
       "  <tbody>\n",
       "    <tr>\n",
       "      <td>0</td>\n",
       "      <td>1000</td>\n",
       "      <td>2018-05-01</td>\n",
       "      <td>22</td>\n",
       "      <td>159</td>\n",
       "    </tr>\n",
       "    <tr>\n",
       "      <td>1</td>\n",
       "      <td>1000</td>\n",
       "      <td>2018-06-01</td>\n",
       "      <td>43</td>\n",
       "      <td>172</td>\n",
       "    </tr>\n",
       "    <tr>\n",
       "      <td>2</td>\n",
       "      <td>1000</td>\n",
       "      <td>2018-07-01</td>\n",
       "      <td>47</td>\n",
       "      <td>340</td>\n",
       "    </tr>\n",
       "    <tr>\n",
       "      <td>3</td>\n",
       "      <td>1000</td>\n",
       "      <td>2018-08-01</td>\n",
       "      <td>52</td>\n",
       "      <td>408</td>\n",
       "    </tr>\n",
       "    <tr>\n",
       "      <td>4</td>\n",
       "      <td>1000</td>\n",
       "      <td>2018-09-01</td>\n",
       "      <td>58</td>\n",
       "      <td>466</td>\n",
       "    </tr>\n",
       "  </tbody>\n",
       "</table>\n",
       "</div>"
      ],
      "text/plain": [
       "   user_id      month  calls  minutes\n",
       "0     1000 2018-05-01     22      159\n",
       "1     1000 2018-06-01     43      172\n",
       "2     1000 2018-07-01     47      340\n",
       "3     1000 2018-08-01     52      408\n",
       "4     1000 2018-09-01     58      466"
      ]
     },
     "execution_count": 16,
     "metadata": {},
     "output_type": "execute_result"
    }
   ],
   "source": [
    "# Создание датафрейма calls_stat с помесячной информацией о количестве сделанных звонков и израсходованных минут разговора по каждому пользователю\n",
    "calls_stat = calls.groupby(['user_id','month'])[['duration']].agg(['count','sum']).reset_index()\n",
    "# Переименуем столбцы датафрейма\n",
    "calls_stat.columns = ['user_id','month','calls','minutes']\n",
    "# Посмотрим, что получилось\n",
    "calls_stat.head()"
   ]
  },
  {
   "cell_type": "markdown",
   "metadata": {},
   "source": [
    "Теперь аналогично для построения сводной статистики количества отправленных сообщений по месяцам добавим колонку *messages.month* на основе *messages.message_date*, в которой будет содержаться первый день месяца совершения звонка."
   ]
  },
  {
   "cell_type": "code",
   "execution_count": 17,
   "metadata": {},
   "outputs": [],
   "source": [
    "messages['month'] = messages['message_date'].values.astype('datetime64[M]')"
   ]
  },
  {
   "cell_type": "markdown",
   "metadata": {},
   "source": [
    "Создадим датафрейм messages_stat с помесячной информацией о количестве отправленных сообщений по каждому пользователю"
   ]
  },
  {
   "cell_type": "code",
   "execution_count": 18,
   "metadata": {},
   "outputs": [
    {
     "data": {
      "text/html": [
       "<div>\n",
       "<style scoped>\n",
       "    .dataframe tbody tr th:only-of-type {\n",
       "        vertical-align: middle;\n",
       "    }\n",
       "\n",
       "    .dataframe tbody tr th {\n",
       "        vertical-align: top;\n",
       "    }\n",
       "\n",
       "    .dataframe thead th {\n",
       "        text-align: right;\n",
       "    }\n",
       "</style>\n",
       "<table border=\"1\" class=\"dataframe\">\n",
       "  <thead>\n",
       "    <tr style=\"text-align: right;\">\n",
       "      <th></th>\n",
       "      <th>user_id</th>\n",
       "      <th>month</th>\n",
       "      <th>messages</th>\n",
       "    </tr>\n",
       "  </thead>\n",
       "  <tbody>\n",
       "    <tr>\n",
       "      <td>0</td>\n",
       "      <td>1000</td>\n",
       "      <td>2018-05-01</td>\n",
       "      <td>22</td>\n",
       "    </tr>\n",
       "    <tr>\n",
       "      <td>1</td>\n",
       "      <td>1000</td>\n",
       "      <td>2018-06-01</td>\n",
       "      <td>43</td>\n",
       "    </tr>\n",
       "    <tr>\n",
       "      <td>2</td>\n",
       "      <td>1000</td>\n",
       "      <td>2018-07-01</td>\n",
       "      <td>47</td>\n",
       "    </tr>\n",
       "    <tr>\n",
       "      <td>3</td>\n",
       "      <td>1000</td>\n",
       "      <td>2018-08-01</td>\n",
       "      <td>52</td>\n",
       "    </tr>\n",
       "    <tr>\n",
       "      <td>4</td>\n",
       "      <td>1000</td>\n",
       "      <td>2018-09-01</td>\n",
       "      <td>58</td>\n",
       "    </tr>\n",
       "  </tbody>\n",
       "</table>\n",
       "</div>"
      ],
      "text/plain": [
       "   user_id      month  messages\n",
       "0     1000 2018-05-01        22\n",
       "1     1000 2018-06-01        43\n",
       "2     1000 2018-07-01        47\n",
       "3     1000 2018-08-01        52\n",
       "4     1000 2018-09-01        58"
      ]
     },
     "execution_count": 18,
     "metadata": {},
     "output_type": "execute_result"
    }
   ],
   "source": [
    "messages_stat = calls.groupby(['user_id','month'])[['id']].agg(['count']).reset_index()\n",
    "messages_stat.columns = ['user_id','month','messages']\n",
    "messages_stat.head()"
   ]
  },
  {
   "cell_type": "markdown",
   "metadata": {},
   "source": [
    "Чтобы построить сводную статистику израсходованного интернет-трафика по месяцам добавим колонку *internet.month* на основе *internet.session_date*, в которой будет содержаться первый день месяца совершения звонка."
   ]
  },
  {
   "cell_type": "code",
   "execution_count": 19,
   "metadata": {},
   "outputs": [],
   "source": [
    "internet['month'] = internet['session_date'].values.astype('datetime64[M]')"
   ]
  },
  {
   "cell_type": "markdown",
   "metadata": {},
   "source": [
    "Создадим датафрейм internet_stat с помесячной информацией об израсходованном интернет-трафике по каждому пользователю"
   ]
  },
  {
   "cell_type": "code",
   "execution_count": 20,
   "metadata": {},
   "outputs": [
    {
     "data": {
      "text/html": [
       "<div>\n",
       "<style scoped>\n",
       "    .dataframe tbody tr th:only-of-type {\n",
       "        vertical-align: middle;\n",
       "    }\n",
       "\n",
       "    .dataframe tbody tr th {\n",
       "        vertical-align: top;\n",
       "    }\n",
       "\n",
       "    .dataframe thead th {\n",
       "        text-align: right;\n",
       "    }\n",
       "</style>\n",
       "<table border=\"1\" class=\"dataframe\">\n",
       "  <thead>\n",
       "    <tr style=\"text-align: right;\">\n",
       "      <th></th>\n",
       "      <th>user_id</th>\n",
       "      <th>month</th>\n",
       "      <th>internet</th>\n",
       "    </tr>\n",
       "  </thead>\n",
       "  <tbody>\n",
       "    <tr>\n",
       "      <td>0</td>\n",
       "      <td>1000</td>\n",
       "      <td>2018-05-01</td>\n",
       "      <td>2256</td>\n",
       "    </tr>\n",
       "    <tr>\n",
       "      <td>1</td>\n",
       "      <td>1000</td>\n",
       "      <td>2018-06-01</td>\n",
       "      <td>23257</td>\n",
       "    </tr>\n",
       "    <tr>\n",
       "      <td>2</td>\n",
       "      <td>1000</td>\n",
       "      <td>2018-07-01</td>\n",
       "      <td>14016</td>\n",
       "    </tr>\n",
       "    <tr>\n",
       "      <td>3</td>\n",
       "      <td>1000</td>\n",
       "      <td>2018-08-01</td>\n",
       "      <td>14070</td>\n",
       "    </tr>\n",
       "    <tr>\n",
       "      <td>4</td>\n",
       "      <td>1000</td>\n",
       "      <td>2018-09-01</td>\n",
       "      <td>14581</td>\n",
       "    </tr>\n",
       "  </tbody>\n",
       "</table>\n",
       "</div>"
      ],
      "text/plain": [
       "   user_id      month  internet\n",
       "0     1000 2018-05-01      2256\n",
       "1     1000 2018-06-01     23257\n",
       "2     1000 2018-07-01     14016\n",
       "3     1000 2018-08-01     14070\n",
       "4     1000 2018-09-01     14581"
      ]
     },
     "execution_count": 20,
     "metadata": {},
     "output_type": "execute_result"
    }
   ],
   "source": [
    "internet_stat = internet.groupby(['user_id','month'])[['mb_used']].agg(['sum']).reset_index()\n",
    "internet_stat.columns = ['user_id','month','internet']\n",
    "internet_stat.head()"
   ]
  },
  {
   "cell_type": "markdown",
   "metadata": {},
   "source": [
    "Поскольку тарификация производится по гигибайтам, то преобразуем значение в колонке `internet_stat['internet']` из МБ в ГБ, а затем округлим значение до целого в большую сторону:"
   ]
  },
  {
   "cell_type": "code",
   "execution_count": 21,
   "metadata": {},
   "outputs": [],
   "source": [
    "# преобразование из МБ в ГБ (1 гигабайт = 1024 мегабайт)\n",
    "internet_stat['internet'] = internet_stat['internet'] / 1024\n",
    "# округление значение в большую сторону\n",
    "internet_stat['internet'] = internet_stat['internet'].apply(np.ceil)\n",
    "# приведение колонки к типу int\n",
    "internet_stat['internet'] = internet_stat['internet'].astype('int')"
   ]
  },
  {
   "cell_type": "markdown",
   "metadata": {},
   "source": [
    "Теперь создадим датафрейм *users_stat*, в котором объединим сводные данные по расходу минут, сообщений и интернет-трафика."
   ]
  },
  {
   "cell_type": "code",
   "execution_count": 22,
   "metadata": {},
   "outputs": [
    {
     "data": {
      "text/html": [
       "<div>\n",
       "<style scoped>\n",
       "    .dataframe tbody tr th:only-of-type {\n",
       "        vertical-align: middle;\n",
       "    }\n",
       "\n",
       "    .dataframe tbody tr th {\n",
       "        vertical-align: top;\n",
       "    }\n",
       "\n",
       "    .dataframe thead th {\n",
       "        text-align: right;\n",
       "    }\n",
       "</style>\n",
       "<table border=\"1\" class=\"dataframe\">\n",
       "  <thead>\n",
       "    <tr style=\"text-align: right;\">\n",
       "      <th></th>\n",
       "      <th>month</th>\n",
       "    </tr>\n",
       "  </thead>\n",
       "  <tbody>\n",
       "    <tr>\n",
       "      <td>0</td>\n",
       "      <td>2018-01-01</td>\n",
       "    </tr>\n",
       "    <tr>\n",
       "      <td>1</td>\n",
       "      <td>2018-02-01</td>\n",
       "    </tr>\n",
       "    <tr>\n",
       "      <td>2</td>\n",
       "      <td>2018-03-01</td>\n",
       "    </tr>\n",
       "    <tr>\n",
       "      <td>3</td>\n",
       "      <td>2018-04-01</td>\n",
       "    </tr>\n",
       "    <tr>\n",
       "      <td>4</td>\n",
       "      <td>2018-05-01</td>\n",
       "    </tr>\n",
       "    <tr>\n",
       "      <td>5</td>\n",
       "      <td>2018-06-01</td>\n",
       "    </tr>\n",
       "    <tr>\n",
       "      <td>6</td>\n",
       "      <td>2018-07-01</td>\n",
       "    </tr>\n",
       "    <tr>\n",
       "      <td>7</td>\n",
       "      <td>2018-08-01</td>\n",
       "    </tr>\n",
       "    <tr>\n",
       "      <td>8</td>\n",
       "      <td>2018-09-01</td>\n",
       "    </tr>\n",
       "    <tr>\n",
       "      <td>9</td>\n",
       "      <td>2018-10-01</td>\n",
       "    </tr>\n",
       "    <tr>\n",
       "      <td>10</td>\n",
       "      <td>2018-11-01</td>\n",
       "    </tr>\n",
       "    <tr>\n",
       "      <td>11</td>\n",
       "      <td>2018-12-01</td>\n",
       "    </tr>\n",
       "  </tbody>\n",
       "</table>\n",
       "</div>"
      ],
      "text/plain": [
       "        month\n",
       "0  2018-01-01\n",
       "1  2018-02-01\n",
       "2  2018-03-01\n",
       "3  2018-04-01\n",
       "4  2018-05-01\n",
       "5  2018-06-01\n",
       "6  2018-07-01\n",
       "7  2018-08-01\n",
       "8  2018-09-01\n",
       "9  2018-10-01\n",
       "10 2018-11-01\n",
       "11 2018-12-01"
      ]
     },
     "execution_count": 22,
     "metadata": {},
     "output_type": "execute_result"
    }
   ],
   "source": [
    "# запишем в переменную min_month минимальный месяц в выборке по звонкам\n",
    "min_month = calls['call_date'].values.astype('datetime64[M]').min()\n",
    "# запишем в переменную max_month максимальный месяц в выборке по звонкам\n",
    "max_month = calls['call_date'].values.astype('datetime64[M]').max()\n",
    "# создаем датафрейм с месяцами от минимального до максимального\n",
    "months = pd.DataFrame(pd.date_range(min_month,max_month,freq='MS'))\n",
    "# переименуем столбец датафрейма\n",
    "months.columns = ['month']\n",
    "# выведем на экран полученный датафрейм\n",
    "months"
   ]
  },
  {
   "cell_type": "markdown",
   "metadata": {},
   "source": [
    "Также перед объединением таблицы добавим в таблицу с пользователями `users` колонки с месяцем регистрации `reg_month` и месяцем отключения от тарифа `churn_month`:"
   ]
  },
  {
   "cell_type": "code",
   "execution_count": 23,
   "metadata": {},
   "outputs": [],
   "source": [
    "users['reg_month'] = users['reg_date'].values.astype('datetime64[M]')\n",
    "users['churn_month'] = users['churn_date'].values.astype('datetime64[M]')"
   ]
  },
  {
   "cell_type": "markdown",
   "metadata": {},
   "source": [
    "Для объединения данных из таблиц пользователей `users` и месяцев `months` сделаем кросс-джойн:"
   ]
  },
  {
   "cell_type": "code",
   "execution_count": 24,
   "metadata": {},
   "outputs": [
    {
     "data": {
      "text/html": [
       "<div>\n",
       "<style scoped>\n",
       "    .dataframe tbody tr th:only-of-type {\n",
       "        vertical-align: middle;\n",
       "    }\n",
       "\n",
       "    .dataframe tbody tr th {\n",
       "        vertical-align: top;\n",
       "    }\n",
       "\n",
       "    .dataframe thead th {\n",
       "        text-align: right;\n",
       "    }\n",
       "</style>\n",
       "<table border=\"1\" class=\"dataframe\">\n",
       "  <thead>\n",
       "    <tr style=\"text-align: right;\">\n",
       "      <th></th>\n",
       "      <th>month</th>\n",
       "      <th>key</th>\n",
       "      <th>user_id</th>\n",
       "      <th>age</th>\n",
       "      <th>churn_date</th>\n",
       "      <th>city</th>\n",
       "      <th>first_name</th>\n",
       "      <th>last_name</th>\n",
       "      <th>reg_date</th>\n",
       "      <th>tariff</th>\n",
       "      <th>reg_month</th>\n",
       "      <th>churn_month</th>\n",
       "    </tr>\n",
       "  </thead>\n",
       "  <tbody>\n",
       "    <tr>\n",
       "      <td>0</td>\n",
       "      <td>2018-01-01</td>\n",
       "      <td>1</td>\n",
       "      <td>1000</td>\n",
       "      <td>52</td>\n",
       "      <td>NaT</td>\n",
       "      <td>Краснодар</td>\n",
       "      <td>Рафаил</td>\n",
       "      <td>Верещагин</td>\n",
       "      <td>2018-05-25</td>\n",
       "      <td>ultra</td>\n",
       "      <td>2018-05-01</td>\n",
       "      <td>NaT</td>\n",
       "    </tr>\n",
       "    <tr>\n",
       "      <td>1</td>\n",
       "      <td>2018-01-01</td>\n",
       "      <td>1</td>\n",
       "      <td>1001</td>\n",
       "      <td>41</td>\n",
       "      <td>NaT</td>\n",
       "      <td>Москва</td>\n",
       "      <td>Иван</td>\n",
       "      <td>Ежов</td>\n",
       "      <td>2018-11-01</td>\n",
       "      <td>smart</td>\n",
       "      <td>2018-11-01</td>\n",
       "      <td>NaT</td>\n",
       "    </tr>\n",
       "    <tr>\n",
       "      <td>2</td>\n",
       "      <td>2018-01-01</td>\n",
       "      <td>1</td>\n",
       "      <td>1002</td>\n",
       "      <td>59</td>\n",
       "      <td>NaT</td>\n",
       "      <td>Стерлитамак</td>\n",
       "      <td>Евгений</td>\n",
       "      <td>Абрамович</td>\n",
       "      <td>2018-06-17</td>\n",
       "      <td>smart</td>\n",
       "      <td>2018-06-01</td>\n",
       "      <td>NaT</td>\n",
       "    </tr>\n",
       "    <tr>\n",
       "      <td>3</td>\n",
       "      <td>2018-01-01</td>\n",
       "      <td>1</td>\n",
       "      <td>1003</td>\n",
       "      <td>23</td>\n",
       "      <td>NaT</td>\n",
       "      <td>Москва</td>\n",
       "      <td>Белла</td>\n",
       "      <td>Белякова</td>\n",
       "      <td>2018-08-17</td>\n",
       "      <td>ultra</td>\n",
       "      <td>2018-08-01</td>\n",
       "      <td>NaT</td>\n",
       "    </tr>\n",
       "    <tr>\n",
       "      <td>4</td>\n",
       "      <td>2018-01-01</td>\n",
       "      <td>1</td>\n",
       "      <td>1004</td>\n",
       "      <td>68</td>\n",
       "      <td>NaT</td>\n",
       "      <td>Новокузнецк</td>\n",
       "      <td>Татьяна</td>\n",
       "      <td>Авдеенко</td>\n",
       "      <td>2018-05-14</td>\n",
       "      <td>ultra</td>\n",
       "      <td>2018-05-01</td>\n",
       "      <td>NaT</td>\n",
       "    </tr>\n",
       "  </tbody>\n",
       "</table>\n",
       "</div>"
      ],
      "text/plain": [
       "       month  key  user_id  age churn_date         city first_name  last_name  \\\n",
       "0 2018-01-01    1     1000   52        NaT    Краснодар     Рафаил  Верещагин   \n",
       "1 2018-01-01    1     1001   41        NaT       Москва       Иван       Ежов   \n",
       "2 2018-01-01    1     1002   59        NaT  Стерлитамак    Евгений  Абрамович   \n",
       "3 2018-01-01    1     1003   23        NaT       Москва      Белла   Белякова   \n",
       "4 2018-01-01    1     1004   68        NaT  Новокузнецк    Татьяна   Авдеенко   \n",
       "\n",
       "    reg_date tariff  reg_month churn_month  \n",
       "0 2018-05-25  ultra 2018-05-01         NaT  \n",
       "1 2018-11-01  smart 2018-11-01         NaT  \n",
       "2 2018-06-17  smart 2018-06-01         NaT  \n",
       "3 2018-08-17  ultra 2018-08-01         NaT  \n",
       "4 2018-05-14  ultra 2018-05-01         NaT  "
      ]
     },
     "execution_count": 24,
     "metadata": {},
     "output_type": "execute_result"
    }
   ],
   "source": [
    "# добавляем в users столбец заполненный значением 1\n",
    "users['key'] = 1\n",
    "# добавляем в months столбец заполненный значением 1\n",
    "months['key'] = 1\n",
    "# выполняем объединение таблиц по колонке key\n",
    "users_stat = months.merge(users,on='key')\n",
    "# вывод на экран объединенной таблицы\n",
    "users_stat.head()"
   ]
  },
  {
   "cell_type": "markdown",
   "metadata": {},
   "source": [
    "Проверим, сколько записей получилось. Должно быть 500 * 12 = 6000:"
   ]
  },
  {
   "cell_type": "code",
   "execution_count": 25,
   "metadata": {},
   "outputs": [
    {
     "name": "stdout",
     "output_type": "stream",
     "text": [
      "Количество записей с помесчной статистикой по пользователям: 6000\n"
     ]
    }
   ],
   "source": [
    "print('Количество записей с помесчной статистикой по пользователям:',len(users_stat))"
   ]
  },
  {
   "cell_type": "markdown",
   "metadata": {},
   "source": [
    "В полученном датафрейме `users_stat` присутствует много записей с месяцем ранее месяца регистрации пользователя (`reg_month`), а также записи с месяцем позднее месяца отключения пользователя от тарифа (`churn_month`). Поэтому нет смысла хранить такие записи в `users_stat`, они только будут мешать корректному подсчету статистики.\n",
    "\n",
    "Для корректной работы со столбцом `churn_month` необходимо заполнить пропущенные значения. Поскольку пропущенные значения в данном параметре означают, что на конец 2018 года пользователь продолжал использовать тариф, то заменим пропущенные значения на техническую дату, которая больше декабря 2018 года (например, ноябрем 2020 года):"
   ]
  },
  {
   "cell_type": "code",
   "execution_count": 26,
   "metadata": {},
   "outputs": [
    {
     "name": "stdout",
     "output_type": "stream",
     "text": [
      "Количество записей, в которых текущий месяц раньше месяца регистрации пользователя: 2741\n",
      "Количество записей, в которых текущий месяц позже месяца отключения пользователя 43\n"
     ]
    }
   ],
   "source": [
    "users_stat['churn_month'] = users_stat['churn_month'].fillna(value=pd.to_datetime('2020-11-01', format='%Y-%m-%d'))\n",
    "print('Количество записей, в которых текущий месяц раньше месяца регистрации пользователя:',len(users_stat[users_stat['month'] < users_stat['reg_month']]))\n",
    "print('Количество записей, в которых текущий месяц позже месяца отключения пользователя',len(users_stat[users_stat['month'] > users_stat['churn_month']]))"
   ]
  },
  {
   "cell_type": "markdown",
   "metadata": {},
   "source": [
    "Также желательно удалить записи с месяцами, равными месяцу регистрации пользователи, а также равными месяцу отключения. Абоненты в такие месяцы могли быть активными только часть дней. Поэтому такие данные могут сильно повлиять на статистику."
   ]
  },
  {
   "cell_type": "code",
   "execution_count": 27,
   "metadata": {},
   "outputs": [
    {
     "name": "stdout",
     "output_type": "stream",
     "text": [
      "Количество записей, в которых текущий месяц раньше месяца регистрации пользователя: 500\n",
      "Количество записей, в которых текущий месяц позже месяца отключения пользователя 38\n"
     ]
    }
   ],
   "source": [
    "print('Количество записей, в которых текущий месяц раньше месяца регистрации пользователя:',len(users_stat[users_stat['month'] == users_stat['reg_month']]))\n",
    "print('Количество записей, в которых текущий месяц позже месяца отключения пользователя',len(users_stat[users_stat['month'] == users_stat['churn_month']]))"
   ]
  },
  {
   "cell_type": "markdown",
   "metadata": {},
   "source": [
    "Теперь удалим лишние записи из датафрейма:"
   ]
  },
  {
   "cell_type": "code",
   "execution_count": 28,
   "metadata": {},
   "outputs": [],
   "source": [
    "users_stat = users_stat[(users_stat['month'] > users_stat['reg_month'])&(users_stat['month'] < users_stat['churn_month'])]"
   ]
  },
  {
   "cell_type": "markdown",
   "metadata": {},
   "source": [
    "Также удалим лишние колонки. Нам больше не потребуется техническая колонка `key`. Также точно нет необходимости в именах пользователей, конкретной дате регистрации и отключения."
   ]
  },
  {
   "cell_type": "code",
   "execution_count": 29,
   "metadata": {},
   "outputs": [],
   "source": [
    "users_stat = users_stat.drop(columns=['key','first_name','last_name','reg_date','churn_date'])"
   ]
  },
  {
   "cell_type": "markdown",
   "metadata": {},
   "source": [
    "Объедимим в users_stat сводные данные по расходу минут, сообщений и интернет-трафика:"
   ]
  },
  {
   "cell_type": "code",
   "execution_count": 30,
   "metadata": {},
   "outputs": [],
   "source": [
    "users_stat = users_stat.merge(calls_stat,how='left',on=['user_id','month'])\n",
    "users_stat = users_stat.merge(internet_stat,how='left',on=['user_id','month'])\n",
    "users_stat = users_stat.merge(messages_stat,how='left',on=['user_id','month'])"
   ]
  },
  {
   "cell_type": "markdown",
   "metadata": {},
   "source": [
    "В новом датафрейме сводные параметры имеют тип `float`. Стоит пребразовать их в целочисленный тип, предварительно заполнив пропущенные значения. Пропущенные значение в данном случае означают, что пользователь в рассматриваемом месяце не совершал звонков (`calls = NaN`), или не использовал Интернет (`internet = NaN`), или не отправлял сообщения (`messages = NaN`)."
   ]
  },
  {
   "cell_type": "code",
   "execution_count": 31,
   "metadata": {},
   "outputs": [],
   "source": [
    "# Заполнение пустых значений\n",
    "users_stat['calls'] = users_stat['calls'].fillna(value=0)\n",
    "users_stat['minutes'] = users_stat['minutes'].fillna(value=0)\n",
    "users_stat['internet'] = users_stat['internet'].fillna(value=0)\n",
    "users_stat['messages'] = users_stat['messages'].fillna(value=0)\n",
    "\n",
    "# Преобразование колонок в тип int\n",
    "users_stat = users_stat.astype({\"calls\": int, \"minutes\": int, \"internet\": int, \"messages\": int})"
   ]
  },
  {
   "cell_type": "markdown",
   "metadata": {},
   "source": [
    "Добавим в `users_stat` колонку `revenue`, в которой рассчитаем по каждому пользователю выручку по месяцам в зависимости от используемого тарифа. Для расчета создадим функцию `revenue_calc`:"
   ]
  },
  {
   "cell_type": "code",
   "execution_count": 32,
   "metadata": {},
   "outputs": [],
   "source": [
    "def revenue_calc(tariff, minutes, internet, messages):\n",
    "    \n",
    "    if tariff == 'smart':\n",
    "        revenue = 550\n",
    "        if minutes > 500:\n",
    "            revenue += (minutes - 500) * 3\n",
    "        if internet > 15:\n",
    "            revenue += (internet - 15) * 200\n",
    "        if messages > 50:\n",
    "            revenue += (messages - 50) * 3\n",
    "            \n",
    "    elif tariff == 'ultra':\n",
    "        revenue = 1950\n",
    "        if minutes > 3000:\n",
    "            revenue += (minutes - 3000) * 3\n",
    "        if internet > 30:\n",
    "            revenue += (internet - 30) * 200\n",
    "        if messages > 1000:\n",
    "            revenue += (messages - 1000) * 3\n",
    "            \n",
    "    return revenue"
   ]
  },
  {
   "cell_type": "markdown",
   "metadata": {},
   "source": [
    "Применим реализованную функцию к `users_stat`, записав значение выручки в колонку `revenue`."
   ]
  },
  {
   "cell_type": "code",
   "execution_count": 33,
   "metadata": {},
   "outputs": [],
   "source": [
    "users_stat['revenue'] = users_stat.apply(lambda x: revenue_calc(x.tariff, x.minutes, x.internet, x.messages), axis=1)"
   ]
  },
  {
   "cell_type": "markdown",
   "metadata": {},
   "source": [
    "Посмотрим на примеры записей полученных расчетов в `users_stat`:"
   ]
  },
  {
   "cell_type": "code",
   "execution_count": 34,
   "metadata": {},
   "outputs": [
    {
     "data": {
      "text/html": [
       "<div>\n",
       "<style scoped>\n",
       "    .dataframe tbody tr th:only-of-type {\n",
       "        vertical-align: middle;\n",
       "    }\n",
       "\n",
       "    .dataframe tbody tr th {\n",
       "        vertical-align: top;\n",
       "    }\n",
       "\n",
       "    .dataframe thead th {\n",
       "        text-align: right;\n",
       "    }\n",
       "</style>\n",
       "<table border=\"1\" class=\"dataframe\">\n",
       "  <thead>\n",
       "    <tr style=\"text-align: right;\">\n",
       "      <th></th>\n",
       "      <th>month</th>\n",
       "      <th>user_id</th>\n",
       "      <th>age</th>\n",
       "      <th>city</th>\n",
       "      <th>tariff</th>\n",
       "      <th>reg_month</th>\n",
       "      <th>churn_month</th>\n",
       "      <th>calls</th>\n",
       "      <th>minutes</th>\n",
       "      <th>internet</th>\n",
       "      <th>messages</th>\n",
       "      <th>revenue</th>\n",
       "    </tr>\n",
       "  </thead>\n",
       "  <tbody>\n",
       "    <tr>\n",
       "      <td>0</td>\n",
       "      <td>2018-02-01</td>\n",
       "      <td>1005</td>\n",
       "      <td>67</td>\n",
       "      <td>Набережные Челны</td>\n",
       "      <td>smart</td>\n",
       "      <td>2018-01-01</td>\n",
       "      <td>2020-11-01</td>\n",
       "      <td>69</td>\n",
       "      <td>456</td>\n",
       "      <td>8</td>\n",
       "      <td>69</td>\n",
       "      <td>607</td>\n",
       "    </tr>\n",
       "    <tr>\n",
       "      <td>1</td>\n",
       "      <td>2018-02-01</td>\n",
       "      <td>1032</td>\n",
       "      <td>31</td>\n",
       "      <td>Ульяновск</td>\n",
       "      <td>smart</td>\n",
       "      <td>2018-01-01</td>\n",
       "      <td>2020-11-01</td>\n",
       "      <td>58</td>\n",
       "      <td>371</td>\n",
       "      <td>13</td>\n",
       "      <td>58</td>\n",
       "      <td>574</td>\n",
       "    </tr>\n",
       "    <tr>\n",
       "      <td>2</td>\n",
       "      <td>2018-02-01</td>\n",
       "      <td>1045</td>\n",
       "      <td>48</td>\n",
       "      <td>Улан-Удэ</td>\n",
       "      <td>smart</td>\n",
       "      <td>2018-01-01</td>\n",
       "      <td>2020-11-01</td>\n",
       "      <td>27</td>\n",
       "      <td>189</td>\n",
       "      <td>15</td>\n",
       "      <td>27</td>\n",
       "      <td>550</td>\n",
       "    </tr>\n",
       "    <tr>\n",
       "      <td>3</td>\n",
       "      <td>2018-02-01</td>\n",
       "      <td>1055</td>\n",
       "      <td>39</td>\n",
       "      <td>Казань</td>\n",
       "      <td>smart</td>\n",
       "      <td>2018-01-01</td>\n",
       "      <td>2020-11-01</td>\n",
       "      <td>66</td>\n",
       "      <td>440</td>\n",
       "      <td>15</td>\n",
       "      <td>66</td>\n",
       "      <td>598</td>\n",
       "    </tr>\n",
       "    <tr>\n",
       "      <td>4</td>\n",
       "      <td>2018-02-01</td>\n",
       "      <td>1071</td>\n",
       "      <td>20</td>\n",
       "      <td>Омск</td>\n",
       "      <td>smart</td>\n",
       "      <td>2018-01-01</td>\n",
       "      <td>2018-08-01</td>\n",
       "      <td>54</td>\n",
       "      <td>401</td>\n",
       "      <td>15</td>\n",
       "      <td>54</td>\n",
       "      <td>562</td>\n",
       "    </tr>\n",
       "    <tr>\n",
       "      <td>...</td>\n",
       "      <td>...</td>\n",
       "      <td>...</td>\n",
       "      <td>...</td>\n",
       "      <td>...</td>\n",
       "      <td>...</td>\n",
       "      <td>...</td>\n",
       "      <td>...</td>\n",
       "      <td>...</td>\n",
       "      <td>...</td>\n",
       "      <td>...</td>\n",
       "      <td>...</td>\n",
       "      <td>...</td>\n",
       "    </tr>\n",
       "    <tr>\n",
       "      <td>2675</td>\n",
       "      <td>2018-12-01</td>\n",
       "      <td>1494</td>\n",
       "      <td>62</td>\n",
       "      <td>Омск</td>\n",
       "      <td>smart</td>\n",
       "      <td>2018-08-01</td>\n",
       "      <td>2020-11-01</td>\n",
       "      <td>62</td>\n",
       "      <td>418</td>\n",
       "      <td>18</td>\n",
       "      <td>62</td>\n",
       "      <td>1186</td>\n",
       "    </tr>\n",
       "    <tr>\n",
       "      <td>2676</td>\n",
       "      <td>2018-12-01</td>\n",
       "      <td>1495</td>\n",
       "      <td>65</td>\n",
       "      <td>Иркутск</td>\n",
       "      <td>ultra</td>\n",
       "      <td>2018-08-01</td>\n",
       "      <td>2020-11-01</td>\n",
       "      <td>155</td>\n",
       "      <td>1031</td>\n",
       "      <td>23</td>\n",
       "      <td>155</td>\n",
       "      <td>1950</td>\n",
       "    </tr>\n",
       "    <tr>\n",
       "      <td>2677</td>\n",
       "      <td>2018-12-01</td>\n",
       "      <td>1496</td>\n",
       "      <td>36</td>\n",
       "      <td>Вологда</td>\n",
       "      <td>smart</td>\n",
       "      <td>2018-01-01</td>\n",
       "      <td>2020-11-01</td>\n",
       "      <td>80</td>\n",
       "      <td>518</td>\n",
       "      <td>21</td>\n",
       "      <td>80</td>\n",
       "      <td>1894</td>\n",
       "    </tr>\n",
       "    <tr>\n",
       "      <td>2678</td>\n",
       "      <td>2018-12-01</td>\n",
       "      <td>1497</td>\n",
       "      <td>32</td>\n",
       "      <td>Челябинск</td>\n",
       "      <td>smart</td>\n",
       "      <td>2018-10-01</td>\n",
       "      <td>2020-11-01</td>\n",
       "      <td>71</td>\n",
       "      <td>545</td>\n",
       "      <td>20</td>\n",
       "      <td>71</td>\n",
       "      <td>1748</td>\n",
       "    </tr>\n",
       "    <tr>\n",
       "      <td>2679</td>\n",
       "      <td>2018-12-01</td>\n",
       "      <td>1499</td>\n",
       "      <td>35</td>\n",
       "      <td>Пермь</td>\n",
       "      <td>smart</td>\n",
       "      <td>2018-09-01</td>\n",
       "      <td>2020-11-01</td>\n",
       "      <td>69</td>\n",
       "      <td>492</td>\n",
       "      <td>13</td>\n",
       "      <td>69</td>\n",
       "      <td>607</td>\n",
       "    </tr>\n",
       "  </tbody>\n",
       "</table>\n",
       "<p>2680 rows × 12 columns</p>\n",
       "</div>"
      ],
      "text/plain": [
       "          month  user_id  age              city tariff  reg_month churn_month  \\\n",
       "0    2018-02-01     1005   67  Набережные Челны  smart 2018-01-01  2020-11-01   \n",
       "1    2018-02-01     1032   31         Ульяновск  smart 2018-01-01  2020-11-01   \n",
       "2    2018-02-01     1045   48          Улан-Удэ  smart 2018-01-01  2020-11-01   \n",
       "3    2018-02-01     1055   39            Казань  smart 2018-01-01  2020-11-01   \n",
       "4    2018-02-01     1071   20              Омск  smart 2018-01-01  2018-08-01   \n",
       "...         ...      ...  ...               ...    ...        ...         ...   \n",
       "2675 2018-12-01     1494   62              Омск  smart 2018-08-01  2020-11-01   \n",
       "2676 2018-12-01     1495   65           Иркутск  ultra 2018-08-01  2020-11-01   \n",
       "2677 2018-12-01     1496   36           Вологда  smart 2018-01-01  2020-11-01   \n",
       "2678 2018-12-01     1497   32         Челябинск  smart 2018-10-01  2020-11-01   \n",
       "2679 2018-12-01     1499   35             Пермь  smart 2018-09-01  2020-11-01   \n",
       "\n",
       "      calls  minutes  internet  messages  revenue  \n",
       "0        69      456         8        69      607  \n",
       "1        58      371        13        58      574  \n",
       "2        27      189        15        27      550  \n",
       "3        66      440        15        66      598  \n",
       "4        54      401        15        54      562  \n",
       "...     ...      ...       ...       ...      ...  \n",
       "2675     62      418        18        62     1186  \n",
       "2676    155     1031        23       155     1950  \n",
       "2677     80      518        21        80     1894  \n",
       "2678     71      545        20        71     1748  \n",
       "2679     69      492        13        69      607  \n",
       "\n",
       "[2680 rows x 12 columns]"
      ]
     },
     "execution_count": 34,
     "metadata": {},
     "output_type": "execute_result"
    }
   ],
   "source": [
    "users_stat"
   ]
  },
  {
   "cell_type": "markdown",
   "metadata": {},
   "source": [
    "Посмотрим на пример данных по одному пользователю:"
   ]
  },
  {
   "cell_type": "code",
   "execution_count": 35,
   "metadata": {},
   "outputs": [
    {
     "data": {
      "text/html": [
       "<div>\n",
       "<style scoped>\n",
       "    .dataframe tbody tr th:only-of-type {\n",
       "        vertical-align: middle;\n",
       "    }\n",
       "\n",
       "    .dataframe tbody tr th {\n",
       "        vertical-align: top;\n",
       "    }\n",
       "\n",
       "    .dataframe thead th {\n",
       "        text-align: right;\n",
       "    }\n",
       "</style>\n",
       "<table border=\"1\" class=\"dataframe\">\n",
       "  <thead>\n",
       "    <tr style=\"text-align: right;\">\n",
       "      <th></th>\n",
       "      <th>month</th>\n",
       "      <th>user_id</th>\n",
       "      <th>age</th>\n",
       "      <th>city</th>\n",
       "      <th>tariff</th>\n",
       "      <th>reg_month</th>\n",
       "      <th>churn_month</th>\n",
       "      <th>calls</th>\n",
       "      <th>minutes</th>\n",
       "      <th>internet</th>\n",
       "      <th>messages</th>\n",
       "      <th>revenue</th>\n",
       "    </tr>\n",
       "  </thead>\n",
       "  <tbody>\n",
       "    <tr>\n",
       "      <td>0</td>\n",
       "      <td>2018-02-01</td>\n",
       "      <td>1005</td>\n",
       "      <td>67</td>\n",
       "      <td>Набережные Челны</td>\n",
       "      <td>smart</td>\n",
       "      <td>2018-01-01</td>\n",
       "      <td>2020-11-01</td>\n",
       "      <td>69</td>\n",
       "      <td>456</td>\n",
       "      <td>8</td>\n",
       "      <td>69</td>\n",
       "      <td>607</td>\n",
       "    </tr>\n",
       "    <tr>\n",
       "      <td>43</td>\n",
       "      <td>2018-03-01</td>\n",
       "      <td>1005</td>\n",
       "      <td>67</td>\n",
       "      <td>Набережные Челны</td>\n",
       "      <td>smart</td>\n",
       "      <td>2018-01-01</td>\n",
       "      <td>2020-11-01</td>\n",
       "      <td>77</td>\n",
       "      <td>606</td>\n",
       "      <td>11</td>\n",
       "      <td>77</td>\n",
       "      <td>949</td>\n",
       "    </tr>\n",
       "    <tr>\n",
       "      <td>125</td>\n",
       "      <td>2018-04-01</td>\n",
       "      <td>1005</td>\n",
       "      <td>67</td>\n",
       "      <td>Набережные Челны</td>\n",
       "      <td>smart</td>\n",
       "      <td>2018-01-01</td>\n",
       "      <td>2020-11-01</td>\n",
       "      <td>101</td>\n",
       "      <td>712</td>\n",
       "      <td>10</td>\n",
       "      <td>101</td>\n",
       "      <td>1339</td>\n",
       "    </tr>\n",
       "    <tr>\n",
       "      <td>239</td>\n",
       "      <td>2018-05-01</td>\n",
       "      <td>1005</td>\n",
       "      <td>67</td>\n",
       "      <td>Набережные Челны</td>\n",
       "      <td>smart</td>\n",
       "      <td>2018-01-01</td>\n",
       "      <td>2020-11-01</td>\n",
       "      <td>73</td>\n",
       "      <td>595</td>\n",
       "      <td>8</td>\n",
       "      <td>73</td>\n",
       "      <td>904</td>\n",
       "    </tr>\n",
       "    <tr>\n",
       "      <td>408</td>\n",
       "      <td>2018-06-01</td>\n",
       "      <td>1005</td>\n",
       "      <td>67</td>\n",
       "      <td>Набережные Челны</td>\n",
       "      <td>smart</td>\n",
       "      <td>2018-01-01</td>\n",
       "      <td>2020-11-01</td>\n",
       "      <td>80</td>\n",
       "      <td>612</td>\n",
       "      <td>10</td>\n",
       "      <td>80</td>\n",
       "      <td>976</td>\n",
       "    </tr>\n",
       "    <tr>\n",
       "      <td>617</td>\n",
       "      <td>2018-07-01</td>\n",
       "      <td>1005</td>\n",
       "      <td>67</td>\n",
       "      <td>Набережные Челны</td>\n",
       "      <td>smart</td>\n",
       "      <td>2018-01-01</td>\n",
       "      <td>2020-11-01</td>\n",
       "      <td>77</td>\n",
       "      <td>569</td>\n",
       "      <td>8</td>\n",
       "      <td>77</td>\n",
       "      <td>838</td>\n",
       "    </tr>\n",
       "    <tr>\n",
       "      <td>865</td>\n",
       "      <td>2018-08-01</td>\n",
       "      <td>1005</td>\n",
       "      <td>67</td>\n",
       "      <td>Набережные Челны</td>\n",
       "      <td>smart</td>\n",
       "      <td>2018-01-01</td>\n",
       "      <td>2020-11-01</td>\n",
       "      <td>71</td>\n",
       "      <td>619</td>\n",
       "      <td>8</td>\n",
       "      <td>71</td>\n",
       "      <td>970</td>\n",
       "    </tr>\n",
       "    <tr>\n",
       "      <td>1156</td>\n",
       "      <td>2018-09-01</td>\n",
       "      <td>1005</td>\n",
       "      <td>67</td>\n",
       "      <td>Набережные Челны</td>\n",
       "      <td>smart</td>\n",
       "      <td>2018-01-01</td>\n",
       "      <td>2020-11-01</td>\n",
       "      <td>66</td>\n",
       "      <td>479</td>\n",
       "      <td>7</td>\n",
       "      <td>66</td>\n",
       "      <td>598</td>\n",
       "    </tr>\n",
       "    <tr>\n",
       "      <td>1493</td>\n",
       "      <td>2018-10-01</td>\n",
       "      <td>1005</td>\n",
       "      <td>67</td>\n",
       "      <td>Набережные Челны</td>\n",
       "      <td>smart</td>\n",
       "      <td>2018-01-01</td>\n",
       "      <td>2020-11-01</td>\n",
       "      <td>100</td>\n",
       "      <td>723</td>\n",
       "      <td>8</td>\n",
       "      <td>100</td>\n",
       "      <td>1369</td>\n",
       "    </tr>\n",
       "    <tr>\n",
       "      <td>1856</td>\n",
       "      <td>2018-11-01</td>\n",
       "      <td>1005</td>\n",
       "      <td>67</td>\n",
       "      <td>Набережные Челны</td>\n",
       "      <td>smart</td>\n",
       "      <td>2018-01-01</td>\n",
       "      <td>2020-11-01</td>\n",
       "      <td>75</td>\n",
       "      <td>547</td>\n",
       "      <td>13</td>\n",
       "      <td>75</td>\n",
       "      <td>766</td>\n",
       "    </tr>\n",
       "    <tr>\n",
       "      <td>2257</td>\n",
       "      <td>2018-12-01</td>\n",
       "      <td>1005</td>\n",
       "      <td>67</td>\n",
       "      <td>Набережные Челны</td>\n",
       "      <td>smart</td>\n",
       "      <td>2018-01-01</td>\n",
       "      <td>2020-11-01</td>\n",
       "      <td>84</td>\n",
       "      <td>592</td>\n",
       "      <td>9</td>\n",
       "      <td>84</td>\n",
       "      <td>928</td>\n",
       "    </tr>\n",
       "  </tbody>\n",
       "</table>\n",
       "</div>"
      ],
      "text/plain": [
       "          month  user_id  age              city tariff  reg_month churn_month  \\\n",
       "0    2018-02-01     1005   67  Набережные Челны  smart 2018-01-01  2020-11-01   \n",
       "43   2018-03-01     1005   67  Набережные Челны  smart 2018-01-01  2020-11-01   \n",
       "125  2018-04-01     1005   67  Набережные Челны  smart 2018-01-01  2020-11-01   \n",
       "239  2018-05-01     1005   67  Набережные Челны  smart 2018-01-01  2020-11-01   \n",
       "408  2018-06-01     1005   67  Набережные Челны  smart 2018-01-01  2020-11-01   \n",
       "617  2018-07-01     1005   67  Набережные Челны  smart 2018-01-01  2020-11-01   \n",
       "865  2018-08-01     1005   67  Набережные Челны  smart 2018-01-01  2020-11-01   \n",
       "1156 2018-09-01     1005   67  Набережные Челны  smart 2018-01-01  2020-11-01   \n",
       "1493 2018-10-01     1005   67  Набережные Челны  smart 2018-01-01  2020-11-01   \n",
       "1856 2018-11-01     1005   67  Набережные Челны  smart 2018-01-01  2020-11-01   \n",
       "2257 2018-12-01     1005   67  Набережные Челны  smart 2018-01-01  2020-11-01   \n",
       "\n",
       "      calls  minutes  internet  messages  revenue  \n",
       "0        69      456         8        69      607  \n",
       "43       77      606        11        77      949  \n",
       "125     101      712        10       101     1339  \n",
       "239      73      595         8        73      904  \n",
       "408      80      612        10        80      976  \n",
       "617      77      569         8        77      838  \n",
       "865      71      619         8        71      970  \n",
       "1156     66      479         7        66      598  \n",
       "1493    100      723         8       100     1369  \n",
       "1856     75      547        13        75      766  \n",
       "2257     84      592         9        84      928  "
      ]
     },
     "execution_count": 35,
     "metadata": {},
     "output_type": "execute_result"
    }
   ],
   "source": [
    "users_stat[users_stat['user_id'] == 1005]"
   ]
  },
  {
   "cell_type": "markdown",
   "metadata": {},
   "source": [
    "### Выводы по шагу 2\n",
    "В результате проведенной предобратки данных было сделано следующее:\n",
    "* приведены данные к нужным типам\n",
    "* удалена лишняя колонка\n",
    "* добавлен датафрейм, в котором для каждого пользователя рассчитаны:\n",
    "    * количество сделанных звонков и израсходованных минут разговора по месяцам;\n",
    "    * количество отправленных сообщений по месяцам;\n",
    "    * объем израсходованного интернет-трафика по месяцам;\n",
    "    * помесячная выручка сотового оператора с каждого пользователя."
   ]
  },
  {
   "cell_type": "markdown",
   "metadata": {},
   "source": [
    "## Шаг 3. Анализ данных\n",
    "Посмотрим подробнее полученную на предыдущем шаге помесячную статистику для клиентов оператора связи.\n",
    "### Минуты разговора\n",
    "Посмотрим, сколько пользователи каждого тарифа тратят минут разговора в месяц. Построим для данного параметра сводную таблицу в разбивке по тарифам со следующими параметрами:\n",
    "\n",
    "* **mean** - среднее количество\n",
    "* **median** - медиана\n",
    "* **std** - стандартное отклонение\n",
    "* **var** - дисперсия"
   ]
  },
  {
   "cell_type": "code",
   "execution_count": 36,
   "metadata": {},
   "outputs": [
    {
     "data": {
      "text/html": [
       "<div>\n",
       "<style scoped>\n",
       "    .dataframe tbody tr th:only-of-type {\n",
       "        vertical-align: middle;\n",
       "    }\n",
       "\n",
       "    .dataframe tbody tr th {\n",
       "        vertical-align: top;\n",
       "    }\n",
       "\n",
       "    .dataframe thead th {\n",
       "        text-align: right;\n",
       "    }\n",
       "</style>\n",
       "<table border=\"1\" class=\"dataframe\">\n",
       "  <thead>\n",
       "    <tr style=\"text-align: right;\">\n",
       "      <th></th>\n",
       "      <th>mean</th>\n",
       "      <th>median</th>\n",
       "      <th>std</th>\n",
       "      <th>var</th>\n",
       "    </tr>\n",
       "    <tr>\n",
       "      <th>tariff</th>\n",
       "      <th></th>\n",
       "      <th></th>\n",
       "      <th></th>\n",
       "      <th></th>\n",
       "    </tr>\n",
       "  </thead>\n",
       "  <tbody>\n",
       "    <tr>\n",
       "      <td>smart</td>\n",
       "      <td>453.003770</td>\n",
       "      <td>454</td>\n",
       "      <td>176.314672</td>\n",
       "      <td>31086.863671</td>\n",
       "    </tr>\n",
       "    <tr>\n",
       "      <td>ultra</td>\n",
       "      <td>572.928311</td>\n",
       "      <td>565</td>\n",
       "      <td>307.242082</td>\n",
       "      <td>94397.696801</td>\n",
       "    </tr>\n",
       "  </tbody>\n",
       "</table>\n",
       "</div>"
      ],
      "text/plain": [
       "              mean  median         std           var\n",
       "tariff                                              \n",
       "smart   453.003770     454  176.314672  31086.863671\n",
       "ultra   572.928311     565  307.242082  94397.696801"
      ]
     },
     "execution_count": 36,
     "metadata": {},
     "output_type": "execute_result"
    }
   ],
   "source": [
    "users_stat.groupby('tariff')['minutes'].agg(['mean','median','std','var'])"
   ]
  },
  {
   "cell_type": "markdown",
   "metadata": {},
   "source": [
    "Также построим гистограммы распределения потраченных минут в разбивке по тарифамм. Для наглядности выведем обе гистограммы на один график."
   ]
  },
  {
   "cell_type": "code",
   "execution_count": 37,
   "metadata": {},
   "outputs": [
    {
     "data": {
      "image/png": "[encoded data removed]",
      "text/plain": [
       "<Figure size 720x360 with 1 Axes>"
      ]
     },
     "metadata": {
      "image/png": {
       "height": 332,
       "width": 635
      },
      "needs_background": "light"
     },
     "output_type": "display_data"
    }
   ],
   "source": [
    "users_stat[users_stat['tariff'] == 'smart']['minutes'].hist(bins=100, figsize=(10, 5), alpha = 0.9)\n",
    "users_stat[users_stat['tariff'] == 'ultra']['minutes'].hist(bins=100, alpha = 0.6)\n",
    "plt.grid(True)\n",
    "labels= [\"Smart\",\"Ultra\"]\n",
    "plt.legend(labels)\n",
    "plt.title('Распределение количества потраченных минут в месяц пользователями в разбивке по тарифам')\n",
    "plt.xlabel('Количество потраченных пользователем минут в месяц')\n",
    "plt.ylabel('Количество месяцев')\n",
    "plt.show()"
   ]
  },
  {
   "cell_type": "markdown",
   "metadata": {},
   "source": [
    "* В среднем пользователям тарифа *smart* требуется около 450 минут разговоров в месяц. Это очень близко к лимиту данного тарифа (500 минут). И как видно по гистограмме, значительная часть пользователей данного тарифа покупают дополнительные минуты сверх лимита.\n",
    "* Пользователи тарифа *ultra* расходуют в среднем около 570 минут разговоров в месяц, что больше среднего для пользователей тарифа *smart*. Причем нет ни одного месяца, когда кто-то из рассматриваемых пользователей вышел за пределы лимита тарифа (3000 минут), т.е. данный лимит для пользователей тарифа *ultra* оказывается очень большим.\n",
    "* Есть большое количество случаев, когда пользователи тарифа *ultra* совсем не разговаривают по телефону. Возможно они покупали этот тариф из-за увеличенного лимита по другой опции (скорее всего Интернет).\n",
    "* По высоте гистограммы видно, что пользователй тарифом *smart* значительно больше, чем тарифом *ultra*, что логично ввиду дешевизны тарифа *smart*."
   ]
  },
  {
   "cell_type": "markdown",
   "metadata": {},
   "source": [
    "### Интернет-трафик\n",
    "Построим для данного параметра сводную таблицу в разбивке по тарифам, а также гистограмму распределения аналогично тому, что мы делали для минут."
   ]
  },
  {
   "cell_type": "code",
   "execution_count": 38,
   "metadata": {},
   "outputs": [
    {
     "data": {
      "text/html": [
       "<div>\n",
       "<style scoped>\n",
       "    .dataframe tbody tr th:only-of-type {\n",
       "        vertical-align: middle;\n",
       "    }\n",
       "\n",
       "    .dataframe tbody tr th {\n",
       "        vertical-align: top;\n",
       "    }\n",
       "\n",
       "    .dataframe thead th {\n",
       "        text-align: right;\n",
       "    }\n",
       "</style>\n",
       "<table border=\"1\" class=\"dataframe\">\n",
       "  <thead>\n",
       "    <tr style=\"text-align: right;\">\n",
       "      <th></th>\n",
       "      <th>mean</th>\n",
       "      <th>median</th>\n",
       "      <th>std</th>\n",
       "      <th>var</th>\n",
       "    </tr>\n",
       "    <tr>\n",
       "      <th>tariff</th>\n",
       "      <th></th>\n",
       "      <th></th>\n",
       "      <th></th>\n",
       "      <th></th>\n",
       "    </tr>\n",
       "  </thead>\n",
       "  <tbody>\n",
       "    <tr>\n",
       "      <td>smart</td>\n",
       "      <td>17.670436</td>\n",
       "      <td>17</td>\n",
       "      <td>4.805613</td>\n",
       "      <td>23.093915</td>\n",
       "    </tr>\n",
       "    <tr>\n",
       "      <td>ultra</td>\n",
       "      <td>21.216282</td>\n",
       "      <td>21</td>\n",
       "      <td>9.262691</td>\n",
       "      <td>85.797447</td>\n",
       "    </tr>\n",
       "  </tbody>\n",
       "</table>\n",
       "</div>"
      ],
      "text/plain": [
       "             mean  median       std        var\n",
       "tariff                                        \n",
       "smart   17.670436      17  4.805613  23.093915\n",
       "ultra   21.216282      21  9.262691  85.797447"
      ]
     },
     "execution_count": 38,
     "metadata": {},
     "output_type": "execute_result"
    }
   ],
   "source": [
    "users_stat.groupby('tariff')['internet'].agg(['mean','median','std','var'])"
   ]
  },
  {
   "cell_type": "code",
   "execution_count": 39,
   "metadata": {},
   "outputs": [
    {
     "data": {
      "image/png": "[encoded data removed]",
      "text/plain": [
       "<Figure size 720x360 with 1 Axes>"
      ]
     },
     "metadata": {
      "image/png": {
       "height": 332,
       "width": 772
      },
      "needs_background": "light"
     },
     "output_type": "display_data"
    }
   ],
   "source": [
    "users_stat[users_stat['tariff'] == 'smart']['internet'].hist(bins=50, figsize=(10, 5), alpha = 0.9)\n",
    "users_stat[users_stat['tariff'] == 'ultra']['internet'].hist(bins=50, alpha = 0.6)\n",
    "plt.grid(True)\n",
    "labels= [\"Smart\",\"Ultra\"]\n",
    "plt.legend(labels)\n",
    "plt.title('Распределение количества потраченных пользователями гигабайт интернет-трафика в месяц в разбивке по тарифам')\n",
    "plt.xlabel('Количество потраченных пользователем гигабайт интернет-трафика в месяц')\n",
    "plt.ylabel('Количество месяцев')\n",
    "plt.show()"
   ]
  },
  {
   "cell_type": "markdown",
   "metadata": {},
   "source": [
    "* В среднем пользователям тарифа *smart* требуется 17 ГБ интернет-трафика, что даже больше лимита тарифа (15 ГБ). Т.е. большая часть пользователей данного тарифа переплачивает за Интернет.\n",
    "* Пользователям тарифа *ultra* тратят в среднем чуть больше, чем пользователи тарифа *smart* - 21 ГБ. При этом для значительного количества пользователей тарифа *ultra* не хватает для покрытия своих потребностей даже лимита в 30 ГБ."
   ]
  },
  {
   "cell_type": "markdown",
   "metadata": {},
   "source": [
    "### Сообщения\n",
    "Построим для данного параметра сводную таблицу в разбивке по тарифам, а также гистограмму распределения аналогично тому, что мы делали для потраченных минут и Интернет-трафика."
   ]
  },
  {
   "cell_type": "code",
   "execution_count": 40,
   "metadata": {},
   "outputs": [
    {
     "data": {
      "text/html": [
       "<div>\n",
       "<style scoped>\n",
       "    .dataframe tbody tr th:only-of-type {\n",
       "        vertical-align: middle;\n",
       "    }\n",
       "\n",
       "    .dataframe tbody tr th {\n",
       "        vertical-align: top;\n",
       "    }\n",
       "\n",
       "    .dataframe thead th {\n",
       "        text-align: right;\n",
       "    }\n",
       "</style>\n",
       "<table border=\"1\" class=\"dataframe\">\n",
       "  <thead>\n",
       "    <tr style=\"text-align: right;\">\n",
       "      <th></th>\n",
       "      <th>mean</th>\n",
       "      <th>median</th>\n",
       "      <th>std</th>\n",
       "      <th>var</th>\n",
       "    </tr>\n",
       "    <tr>\n",
       "      <th>tariff</th>\n",
       "      <th></th>\n",
       "      <th></th>\n",
       "      <th></th>\n",
       "      <th></th>\n",
       "    </tr>\n",
       "  </thead>\n",
       "  <tbody>\n",
       "    <tr>\n",
       "      <td>smart</td>\n",
       "      <td>63.420032</td>\n",
       "      <td>64</td>\n",
       "      <td>23.805181</td>\n",
       "      <td>566.686624</td>\n",
       "    </tr>\n",
       "    <tr>\n",
       "      <td>ultra</td>\n",
       "      <td>79.883354</td>\n",
       "      <td>80</td>\n",
       "      <td>42.416525</td>\n",
       "      <td>1799.161560</td>\n",
       "    </tr>\n",
       "  </tbody>\n",
       "</table>\n",
       "</div>"
      ],
      "text/plain": [
       "             mean  median        std          var\n",
       "tariff                                           \n",
       "smart   63.420032      64  23.805181   566.686624\n",
       "ultra   79.883354      80  42.416525  1799.161560"
      ]
     },
     "execution_count": 40,
     "metadata": {},
     "output_type": "execute_result"
    }
   ],
   "source": [
    "users_stat.groupby('tariff')['messages'].agg(['mean','median','std','var'])"
   ]
  },
  {
   "cell_type": "code",
   "execution_count": 41,
   "metadata": {},
   "outputs": [
    {
     "data": {
      "image/png": "[encoded data removed]",
      "text/plain": [
       "<Figure size 720x360 with 1 Axes>"
      ]
     },
     "metadata": {
      "image/png": {
       "height": 332,
       "width": 616
      },
      "needs_background": "light"
     },
     "output_type": "display_data"
    }
   ],
   "source": [
    "users_stat[users_stat['tariff'] == 'smart']['messages'].hist(bins=100, figsize=(10, 5), alpha = 0.9)\n",
    "users_stat[users_stat['tariff'] == 'ultra']['messages'].hist(bins=100, alpha = 0.6)\n",
    "plt.grid(True)\n",
    "labels= [\"Smart\",\"Ultra\"]\n",
    "plt.legend(labels)\n",
    "plt.title('Распределение отправленных пользователями сообщений в месяц в разбивке по тарифам')\n",
    "plt.xlabel('Количество отправленных сообщений в месяц')\n",
    "plt.ylabel('Количество месяцев')\n",
    "plt.show()"
   ]
  },
  {
   "cell_type": "markdown",
   "metadata": {},
   "source": [
    "* В среднем пользователям тарифа *smart* требуется 63 сообщения в месяц, что больше лимита тарифа (50 сообщение). Т.е. большая часть пользователей данного тарифа переплачивает за отправляемые сообщения.\n",
    "* Пользователи тарифа *ultra* отправляют в среднем больше сообщений, чем пользователи тарифа smart - 80. При этом никто из рассматриваемых пользователей не выходит за пределы лимита тарифа (1000 сообщений)"
   ]
  },
  {
   "cell_type": "markdown",
   "metadata": {},
   "source": [
    "### Помесячная выручка\n",
    "Также построим для данного параметра сводную таблицу в разбивке по тарифам, а также гистограмму распределения."
   ]
  },
  {
   "cell_type": "code",
   "execution_count": 42,
   "metadata": {},
   "outputs": [
    {
     "data": {
      "text/html": [
       "<div>\n",
       "<style scoped>\n",
       "    .dataframe tbody tr th:only-of-type {\n",
       "        vertical-align: middle;\n",
       "    }\n",
       "\n",
       "    .dataframe tbody tr th {\n",
       "        vertical-align: top;\n",
       "    }\n",
       "\n",
       "    .dataframe thead th {\n",
       "        text-align: right;\n",
       "    }\n",
       "</style>\n",
       "<table border=\"1\" class=\"dataframe\">\n",
       "  <thead>\n",
       "    <tr style=\"text-align: right;\">\n",
       "      <th></th>\n",
       "      <th>mean</th>\n",
       "      <th>median</th>\n",
       "      <th>std</th>\n",
       "      <th>var</th>\n",
       "    </tr>\n",
       "    <tr>\n",
       "      <th>tariff</th>\n",
       "      <th></th>\n",
       "      <th></th>\n",
       "      <th></th>\n",
       "      <th></th>\n",
       "    </tr>\n",
       "  </thead>\n",
       "  <tbody>\n",
       "    <tr>\n",
       "      <td>smart</td>\n",
       "      <td>1445.956920</td>\n",
       "      <td>1235</td>\n",
       "      <td>849.821033</td>\n",
       "      <td>722195.788014</td>\n",
       "    </tr>\n",
       "    <tr>\n",
       "      <td>ultra</td>\n",
       "      <td>2140.765492</td>\n",
       "      <td>1950</td>\n",
       "      <td>546.176511</td>\n",
       "      <td>298308.780706</td>\n",
       "    </tr>\n",
       "  </tbody>\n",
       "</table>\n",
       "</div>"
      ],
      "text/plain": [
       "               mean  median         std            var\n",
       "tariff                                                \n",
       "smart   1445.956920    1235  849.821033  722195.788014\n",
       "ultra   2140.765492    1950  546.176511  298308.780706"
      ]
     },
     "execution_count": 42,
     "metadata": {},
     "output_type": "execute_result"
    }
   ],
   "source": [
    "users_stat.groupby('tariff')['revenue'].agg(['mean','median','std','var'])"
   ]
  },
  {
   "cell_type": "code",
   "execution_count": 43,
   "metadata": {},
   "outputs": [
    {
     "data": {
      "image/png": "[encoded data removed]",
      "text/plain": [
       "<Figure size 720x360 with 1 Axes>"
      ]
     },
     "metadata": {
      "image/png": {
       "height": 332,
       "width": 623
      },
      "needs_background": "light"
     },
     "output_type": "display_data"
    }
   ],
   "source": [
    "users_stat[users_stat['tariff'] == 'smart']['revenue'].hist(bins=100, figsize=(10, 5), alpha = 0.9)\n",
    "users_stat[users_stat['tariff'] == 'ultra']['revenue'].hist(bins=100, alpha = 0.6)\n",
    "plt.grid(True)\n",
    "labels= [\"Smart\",\"Ultra\"]\n",
    "plt.legend(labels)\n",
    "plt.title('Распределение отправленных пользователями сообщений в месяц в разбивке по тарифам')\n",
    "plt.xlabel('Количество отправленных сообщений в месяц')\n",
    "plt.ylabel('Количество месяцев')\n",
    "plt.show()"
   ]
  },
  {
   "cell_type": "markdown",
   "metadata": {},
   "source": [
    "* Из-за того, что пользователи тарифа *smart* часто выходят за пределы лимитов, среднее значение выручки оператора от пользователей данным тарифом значительно больше абонентской платы (почти в 3 раза), таким образом, оказывается близко к абонентской плате тарифа *ultra*.\n",
    "* Чаще всего пользователи тарифа *ultra* не исчерпывают ежемесячных лимитов. В результате медиана равна ровно 1950, а среднее значение очень близко к значению абонентской платы."
   ]
  },
  {
   "cell_type": "markdown",
   "metadata": {},
   "source": [
    "### Выводы по шагу 3\n",
    "* Пользователи тарифа *ultra* тратят в среднем больше минут (примерно на 20%), трафика и сообщений, чем пользователи тарифа *smart*. Тем не менее, эта разница несоразмерна абонентской плате, которая в 3 раза больше у пользователей тарифа *ultra*.\n",
    "* Пользователи тарифа *smart* зачастую значительно переплачивают за счет того, что выходят за лимиты пакета. Переплата сверх лимита составляет в среднем в два раза больше, чем абонентская плата.\n",
    "* Пользователи тарифа *ultra* редко выходят за пределы лимитов. В основном им хватает имеющегося пакета. При этом выходят за лимиты только по Интернет-трафику."
   ]
  },
  {
   "cell_type": "markdown",
   "metadata": {},
   "source": [
    "## Шаг 4. Проверка гипотез\n",
    "\n",
    "На данном шаге нам необходимо проверить следующие гипотезы:\n",
    "* средняя выручка пользователей тарифов «Ультра» и «Смарт» различается;\n",
    "* средняя выручка пользователей из Москвы отличается от выручки пользователей из других регионов.\n",
    "\n",
    "Для проверки гипотез воспользуемся методом, который возвращает статистику разности между средними значениями.\n",
    "В обоих гипотезах мы будем сравнивать между собой средние двух генеральных совокупностей, поэтому будем использовать метод `scipy.stats.ttest_ind()`."
   ]
  },
  {
   "cell_type": "markdown",
   "metadata": {},
   "source": [
    "### Cредняя выручка пользователей тарифов «Ультра» и «Смарт»\n",
    "Проверим гипотезу о том, что средняя выручка пользователей тарифов «Ультра» и «Смарт» различается.\n",
    "Сначала сформулируем нулевую гипотезу. Она всегда формулируется так, чтобы использовать знак равенства. Поэтому нулевая гипотеза будет звучать следующим образом:\n",
    "\n",
    "**Н0: Средняя выручка оператора от пользователей тарифа «Ультра» равна средней выручке от пользователей тарифа «Смарт».**\n",
    "\n",
    "Тогда альтернативная гипотеза будет звучать так:\n",
    "\n",
    "**Н1: Средняя выручка оператора от пользователей тарифа «Ультра» отличается от средней выручки от пользователей тарифа «Смарт».**\n",
    "\n",
    "Рассчитаем средние значения выручки от пользователей по рассматриваемым тарифам:"
   ]
  },
  {
   "cell_type": "code",
   "execution_count": 44,
   "metadata": {},
   "outputs": [
    {
     "name": "stdout",
     "output_type": "stream",
     "text": [
      "Средняя выручка от абонентов тарифа «Смарт»: 1445.9569197630587\n",
      "Средняя выручка от абонентов тарифа «Ультра»: 2140.7654921020658\n"
     ]
    }
   ],
   "source": [
    "print('Средняя выручка от абонентов тарифа «Смарт»:',users_stat[users_stat['tariff'] == 'smart']['revenue'].mean())\n",
    "print('Средняя выручка от абонентов тарифа «Ультра»:',users_stat[users_stat['tariff'] == 'ultra']['revenue'].mean())"
   ]
  },
  {
   "cell_type": "markdown",
   "metadata": {},
   "source": [
    "Средние выручки заметно отличаются. Но это различие могло получиться и случайно. Осуществим проверку сформулированной гипотезы."
   ]
  },
  {
   "cell_type": "code",
   "execution_count": 45,
   "metadata": {},
   "outputs": [
    {
     "name": "stdout",
     "output_type": "stream",
     "text": [
      "p-значение:  3.178555418340759e-95\n",
      "Отвергаем нулевую гипотезу\n"
     ]
    }
   ],
   "source": [
    "from scipy import stats as st\n",
    "\n",
    "# Зададим критический уровень статистической значимости\n",
    "alpha = .05\n",
    "\n",
    "# Проведем тест и посчитаем p-значение\n",
    "results = st.ttest_ind(\n",
    "    users_stat[users_stat['tariff'] == 'smart']['revenue'],\n",
    "    users_stat[users_stat['tariff'] == 'ultra']['revenue'])\n",
    "\n",
    "# Выведем на экран полученное p-значение\n",
    "print('p-значение: ', results.pvalue)\n",
    "\n",
    "# Сравним получившееся p-значение с заданным уровнем статистической значимости:\n",
    "if (results.pvalue < alpha):\n",
    "    print(\"Отвергаем нулевую гипотезу\")\n",
    "else:\n",
    "    print(\"Не получилось отвергнуть нулевую гипотезу\")"
   ]
  },
  {
   "cell_type": "markdown",
   "metadata": {},
   "source": [
    "Вероятность того, что средние выручки от пользователей тарифами «Ультра» и «Смарт» будут равны, оказалась почти нулевой.\n",
    "Поэтому можно сделать вывод, что средние выручки действительно различны."
   ]
  },
  {
   "cell_type": "markdown",
   "metadata": {},
   "source": [
    "### Средняя выручка пользователей из Москвы отличается от выручки пользователей из других регионов\n",
    "Сформулируем нулевую гипотезу:\n",
    "\n",
    "**Н0: Средняя выручка от пользователей из Москвы равна средней выручке от пользователей из других регионов.**\n",
    "\n",
    "Тогда альтернативная гипотеза будет звучать так:\n",
    "\n",
    "**Н1: Средняя выручка от пользователей из Москвы отлична от средней выручки от пользователей из других регионов.**\n",
    "\n",
    "Для наглядности рассчитаем среднюю выручку по рассматриваемым группам:"
   ]
  },
  {
   "cell_type": "code",
   "execution_count": 46,
   "metadata": {},
   "outputs": [
    {
     "name": "stdout",
     "output_type": "stream",
     "text": [
      "Средняя выручка от абонентов из Москвы: 1689.8608349900596\n",
      "Средняя выручка от абонентов из других регионов: 1652.2700964630226\n"
     ]
    }
   ],
   "source": [
    "print('Средняя выручка от абонентов из Москвы:',users_stat[users_stat['city'] == 'Москва']['revenue'].mean())\n",
    "print('Средняя выручка от абонентов из других регионов:',users_stat[users_stat['city'] != 'Москва']['revenue'].mean())"
   ]
  },
  {
   "cell_type": "markdown",
   "metadata": {},
   "source": [
    "Расчетные значения мало отличаются друг от друга. Но они могли получиться и случайно. Осуществим проверку сформулированной гипотезы."
   ]
  },
  {
   "cell_type": "code",
   "execution_count": 47,
   "metadata": {},
   "outputs": [
    {
     "name": "stdout",
     "output_type": "stream",
     "text": [
      "p-значение:  0.3620251030578018\n",
      "Не получилось отвергнуть нулевую гипотезу\n"
     ]
    }
   ],
   "source": [
    "# Зададим критический уровень статистической значимости\n",
    "alpha = .05\n",
    "\n",
    "# Проведем тест и посчитаем p-значение\n",
    "results = st.ttest_ind(\n",
    "    users_stat[users_stat['city'] == 'Москва']['revenue'],\n",
    "    users_stat[users_stat['city'] != 'Москва']['revenue'])\n",
    "\n",
    "# Выведем на экран полученное p-значение\n",
    "print('p-значение: ', results.pvalue)\n",
    "\n",
    "# Сравним получившееся p-значение с заданным уровнем статистической значимости:\n",
    "if (results.pvalue < alpha):\n",
    "    print(\"Отвергаем нулевую гипотезу\")\n",
    "else:\n",
    "    print(\"Не получилось отвергнуть нулевую гипотезу\")"
   ]
  },
  {
   "cell_type": "markdown",
   "metadata": {},
   "source": [
    "Полученное значение p-value говорит о том, что с вероятностью в 36% текущее различие между средними выручками от пользователей из рассматриваемых групп можно получить случайно. Это явно слишком большая вероятность, чтобы делать вывод о значимом различии между средними выручками от пользователей из Москвы в сравнении с пользователями из других регионов."
   ]
  },
  {
   "cell_type": "markdown",
   "metadata": {},
   "source": [
    "### Выводы по шагу 4"
   ]
  },
  {
   "cell_type": "markdown",
   "metadata": {},
   "source": [
    "В результате проверки сформулированных гипотез выяснено следующее:\n",
    "* Средняя выручка сотового оператора от пользователей тарифов «Ультра» и «Смарт» различается.\n",
    "* Средняя выручка сотового оператора от пользователей из Москвы не отличается от выручки от пользователей из других регионов."
   ]
  },
  {
   "cell_type": "markdown",
   "metadata": {},
   "source": [
    "## Шаг 5. Общий вывод\n",
    "Проведенный анализ позволил ответить на изначально поставленный вопрос о том, какой тариф лучше:\n",
    "* С точки зрения средней выручки для оператора лучше оказывается тариф «Ультра»: средняя помясячная выручка от него значительно больше по сравнению с тарифом «Смарт» (примерно на 50%).\n",
    "* Тариф «Смарт» может быть более привлекателен для пользователей с точки зрения абонентской платы, что и подтверждается тем, что пользователей данного тарифа значительно больше, чем пользователей тарифа «Ультра». \n",
    "* В то же время существенным недостатком тарифа «Смарт» является худшая предсказуемость ежемесячного платежа, поскольку его пользователи часто выходят за предоставляемые лимиты. С одной стороны, это выгодно сотовому оператору. С другой стороны, пользователи ожидают, что будут платить минимум - абонентскую плату. Частые же выходы за лимиты приводят к их недовольству и стремлению оптимизировать траты, т.е. либо сменить тариф, либо оператора связи."
   ]
  }
 ],
 "metadata": {
  "kernelspec": {
   "display_name": "Python 3",
   "language": "python",
   "name": "python3"
  },
  "language_info": {
   "codemirror_mode": {
    "name": "ipython",
    "version": 3
   },
   "file_extension": ".py",
   "mimetype": "text/x-python",
   "name": "python",
   "nbconvert_exporter": "python",
   "pygments_lexer": "ipython3",
   "version": "3.8.3"
  }
 },
 "nbformat": 4,
 "nbformat_minor": 4
}
